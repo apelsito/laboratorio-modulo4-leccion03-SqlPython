{
 "cells": [
  {
   "cell_type": "markdown",
   "metadata": {},
   "source": [
    "# SQL Python\n",
    "\n",
    "Tenemos 3 CSV, debemos crear una base de datos en Dbeaver y usando python ingresar los datos y después realizarnos 5 preguntas al respecto que podamos sacar con consultas que lleven JOIN, GROUP BY o similar\n",
    "\n",
    "También podemos practicar subsconsultas"
   ]
  },
  {
   "cell_type": "code",
   "execution_count": 1,
   "metadata": {},
   "outputs": [],
   "source": [
    "# importamos las librerías con las que vamos a trabajar\n",
    "\n",
    "# Trabajar con bases de datos y python\n",
    "# -----------------------------------------------------------------------\n",
    "import psycopg2\n",
    "from psycopg2 import OperationalError, errorcodes, errors\n",
    "\n",
    "\n",
    "# Trabajar con DataFrames\n",
    "# -----------------------------------------------------------------------\n",
    "import pandas as pd\n",
    "\n",
    "from geopy.geocoders import Nominatim\n",
    "from src.SupportLab import obtain_sky_state,obtain_date_index,obtain_municipio_index,geopy_search"
   ]
  },
  {
   "cell_type": "markdown",
   "metadata": {},
   "source": [
    "Primero voy a cargar los CSV con objetivo de ver que tablas pueda sacar"
   ]
  },
  {
   "cell_type": "code",
   "execution_count": 2,
   "metadata": {},
   "outputs": [],
   "source": [
    "foursquare = pd.read_csv(\"datos/api_foursquare.csv\",index_col=\"Unnamed: 0\")\n",
    "aemet = pd.read_csv(\"datos/df_aemet_final.csv\")\n",
    "municipios = pd.read_csv(\"datos/municipios.csv\",index_col=\"Unnamed: 0\")"
   ]
  },
  {
   "cell_type": "code",
   "execution_count": 3,
   "metadata": {},
   "outputs": [
    {
     "data": {
      "text/html": [
       "<div>\n",
       "<style scoped>\n",
       "    .dataframe tbody tr th:only-of-type {\n",
       "        vertical-align: middle;\n",
       "    }\n",
       "\n",
       "    .dataframe tbody tr th {\n",
       "        vertical-align: top;\n",
       "    }\n",
       "\n",
       "    .dataframe thead th {\n",
       "        text-align: right;\n",
       "    }\n",
       "</style>\n",
       "<table border=\"1\" class=\"dataframe\">\n",
       "  <thead>\n",
       "    <tr style=\"text-align: right;\">\n",
       "      <th></th>\n",
       "      <th>municipio</th>\n",
       "      <th>category</th>\n",
       "      <th>fsq_id</th>\n",
       "      <th>closed_bucket</th>\n",
       "      <th>distance</th>\n",
       "      <th>link</th>\n",
       "      <th>name</th>\n",
       "      <th>address</th>\n",
       "      <th>latitude</th>\n",
       "      <th>longitude</th>\n",
       "    </tr>\n",
       "  </thead>\n",
       "  <tbody>\n",
       "    <tr>\n",
       "      <th>0</th>\n",
       "      <td>ajalvir</td>\n",
       "      <td>Park</td>\n",
       "      <td>4d3c6c5b84d46ea87dddfd5c</td>\n",
       "      <td>LikelyOpen</td>\n",
       "      <td>563.0</td>\n",
       "      <td>/v3/places/4d3c6c5b84d46ea87dddfd5c</td>\n",
       "      <td>Diverjungla</td>\n",
       "      <td>Calle Segovia, 20 (Pol. Ind. Donada), 28864 Aj...</td>\n",
       "      <td>40.529921</td>\n",
       "      <td>-3.484341</td>\n",
       "    </tr>\n",
       "  </tbody>\n",
       "</table>\n",
       "</div>"
      ],
      "text/plain": [
       "  municipio category                    fsq_id closed_bucket  distance  \\\n",
       "0   ajalvir     Park  4d3c6c5b84d46ea87dddfd5c    LikelyOpen     563.0   \n",
       "\n",
       "                                  link         name  \\\n",
       "0  /v3/places/4d3c6c5b84d46ea87dddfd5c  Diverjungla   \n",
       "\n",
       "                                             address   latitude  longitude  \n",
       "0  Calle Segovia, 20 (Pol. Ind. Donada), 28864 Aj...  40.529921  -3.484341  "
      ]
     },
     "execution_count": 3,
     "metadata": {},
     "output_type": "execute_result"
    }
   ],
   "source": [
    "foursquare.head(1)"
   ]
  },
  {
   "cell_type": "code",
   "execution_count": 4,
   "metadata": {},
   "outputs": [
    {
     "data": {
      "text/plain": [
       "array(['Park', 'Monument', 'TV Station', 'Castle', 'Film Studio',\n",
       "       'Palace', 'Fountain', 'Bridge', 'Beach',\n",
       "       'Print, TV, Radio and Outdoor Advertising Service'], dtype=object)"
      ]
     },
     "execution_count": 4,
     "metadata": {},
     "output_type": "execute_result"
    }
   ],
   "source": [
    "foursquare[\"category\"].unique()"
   ]
  },
  {
   "cell_type": "code",
   "execution_count": 5,
   "metadata": {},
   "outputs": [
    {
     "data": {
      "text/html": [
       "<div>\n",
       "<style scoped>\n",
       "    .dataframe tbody tr th:only-of-type {\n",
       "        vertical-align: middle;\n",
       "    }\n",
       "\n",
       "    .dataframe tbody tr th {\n",
       "        vertical-align: top;\n",
       "    }\n",
       "\n",
       "    .dataframe thead th {\n",
       "        text-align: right;\n",
       "    }\n",
       "</style>\n",
       "<table border=\"1\" class=\"dataframe\">\n",
       "  <thead>\n",
       "    <tr style=\"text-align: right;\">\n",
       "      <th></th>\n",
       "      <th>fecha</th>\n",
       "      <th>cielo</th>\n",
       "      <th>temp._(°c)</th>\n",
       "      <th>sen._térmica_(°c)</th>\n",
       "      <th>racha_máx._(km/h)</th>\n",
       "      <th>precipitación_(mm)</th>\n",
       "      <th>nieve_(mm)</th>\n",
       "      <th>humedad_relativa_(%)</th>\n",
       "      <th>prob._precip.__(%)</th>\n",
       "      <th>prob._de_nieve_(%)</th>\n",
       "      <th>prob._de_tormenta_(%)</th>\n",
       "      <th>avisos</th>\n",
       "      <th>dirección_viento</th>\n",
       "      <th>velocidad_del_viento</th>\n",
       "      <th>localizacion_id</th>\n",
       "    </tr>\n",
       "  </thead>\n",
       "  <tbody>\n",
       "    <tr>\n",
       "      <th>0</th>\n",
       "      <td>2024-08-29 12:00:00</td>\n",
       "      <td>Nubes altas</td>\n",
       "      <td>21</td>\n",
       "      <td>21</td>\n",
       "      <td>25.0</td>\n",
       "      <td>0.0</td>\n",
       "      <td>0</td>\n",
       "      <td>69</td>\n",
       "      <td>95</td>\n",
       "      <td>0</td>\n",
       "      <td>75</td>\n",
       "      <td>Riesgo</td>\n",
       "      <td>S</td>\n",
       "      <td>7</td>\n",
       "      <td>acebeda-la-id28001</td>\n",
       "    </tr>\n",
       "  </tbody>\n",
       "</table>\n",
       "</div>"
      ],
      "text/plain": [
       "                 fecha        cielo  temp._(°c)  sen._térmica_(°c)  \\\n",
       "0  2024-08-29 12:00:00  Nubes altas          21                 21   \n",
       "\n",
       "   racha_máx._(km/h)  precipitación_(mm)  nieve_(mm)  humedad_relativa_(%)  \\\n",
       "0               25.0                 0.0           0                    69   \n",
       "\n",
       "  prob._precip.__(%)  prob._de_nieve_(%)  prob._de_tormenta_(%)  avisos  \\\n",
       "0                 95                   0                     75  Riesgo   \n",
       "\n",
       "  dirección_viento  velocidad_del_viento     localizacion_id  \n",
       "0                S                     7  acebeda-la-id28001  "
      ]
     },
     "execution_count": 5,
     "metadata": {},
     "output_type": "execute_result"
    }
   ],
   "source": [
    "aemet.head(1)"
   ]
  },
  {
   "cell_type": "code",
   "execution_count": 6,
   "metadata": {},
   "outputs": [
    {
     "data": {
      "text/plain": [
       "array(['acebeda-la-id28001', 'ajalvir-id28002',\n",
       "       'alameda-del-valle-id28003', 'alamo-el-id28004',\n",
       "       'alcala-de-henares-id28005', 'alcobendas-id28006',\n",
       "       'alcorcon-id28007', 'aldea-del-fresno-id28008', 'algete-id28009',\n",
       "       'alpedrete-id28010', 'ambite-id28011', 'anchuelo-id28012',\n",
       "       'aranjuez-id28013', 'arganda-del-rey-id28014',\n",
       "       'arroyomolinos-id28015', 'atazar-el-id28016', 'batres-id28017',\n",
       "       'becerril-de-la-sierra-id28018', 'belmonte-de-tajo-id28019',\n",
       "       'berrueco-el-id28021', 'berzosa-del-lozoya-id28020',\n",
       "       'boadilla-del-monte-id28022', 'boalo-el-id28023',\n",
       "       'braojos-id28024', 'brea-de-tajo-id28025', 'brunete-id28026',\n",
       "       'buitrago-del-lozoya-id28027', 'bustarviejo-id28028',\n",
       "       'cabanillas-de-la-sierra-id28029', 'cabrera-la-id28030',\n",
       "       'cadalso-de-los-vidrios-id28031', 'camarma-de-esteruelas-id28032',\n",
       "       'campo-real-id28033', 'canencia-id28034', 'carabana-id28035',\n",
       "       'casarrubuelos-id28036', 'cenicientos-id28037',\n",
       "       'cercedilla-id28038', 'cervera-de-buitrago-id28039',\n",
       "       'chapineria-id28051', 'chinchon-id28052', 'ciempozuelos-id28040',\n",
       "       'cobena-id28041', 'collado-mediano-id28046',\n",
       "       'collado-villalba-id28047', 'colmenar-del-arroyo-id28042',\n",
       "       'colmenar-de-oreja-id28043', 'colmenarejo-id28044',\n",
       "       'colmenar-viejo-id28045', 'corpa-id28048', 'coslada-id28049',\n",
       "       'cubas-de-la-sagra-id28050', 'daganzo-de-arriba-id28053',\n",
       "       'escorial-el-id28054', 'estremera-id28055',\n",
       "       'fresnedillas-de-la-oliva-id28056', 'fresno-de-torote-id28057',\n",
       "       'fuenlabrada-id28058', 'fuente-el-saz-de-jarama-id28059',\n",
       "       'fuentiduena-de-tajo-id28060', 'galapagar-id28061',\n",
       "       'garganta-de-los-montes-id28062',\n",
       "       'gargantilla-del-lozoya-y-pinilla-de-buitrago-id28063',\n",
       "       'gascones-id28064', 'getafe-id28065', 'grinon-id28066',\n",
       "       'guadalix-de-la-sierra-id28067', 'guadarrama-id28068',\n",
       "       'hiruela-la-id28069', 'horcajo-de-la-sierra-aoslos-id28070',\n",
       "       'horcajuelo-de-la-sierra-id28071', 'hoyo-de-manzanares-id28072',\n",
       "       'humanes-de-madrid-id28073', 'leganes-id28074', 'loeches-id28075',\n",
       "       'lozoya-id28076', 'lozoyuela-navas-sieteiglesias-id28901',\n",
       "       'madarcos-id28078', 'madrid-id28079', 'majadahonda-id28080',\n",
       "       'manzanares-el-real-id28082', 'meco-id28083',\n",
       "       'mejorada-del-campo-id28084', 'miraflores-de-la-sierra-id28085',\n",
       "       'molar-el-id28086', 'molinos-los-id28087',\n",
       "       'montejo-de-la-sierra-id28088', 'moraleja-de-enmedio-id28089',\n",
       "       'moralzarzal-id28090', 'morata-de-tajuna-id28091',\n",
       "       'mostoles-id28092', 'navacerrada-id28093', 'navalafuente-id28094',\n",
       "       'navalagamella-id28095', 'navalcarnero-id28096',\n",
       "       'navarredonda-y-san-mames-id28097', 'navas-del-rey-id28099',\n",
       "       'nuevo-baztan-id28100', 'olmeda-de-las-fuentes-id28101',\n",
       "       'orusco-de-tajuna-id28102', 'paracuellos-de-jarama-id28104',\n",
       "       'parla-id28106', 'patones-id28107', 'pedrezuela-id28108',\n",
       "       'pelayos-de-la-presa-id28109', 'perales-de-tajuna-id28110',\n",
       "       'pezuela-de-las-torres-id28111', 'pinilla-del-valle-id28112',\n",
       "       'pinto-id28113', 'pinuecar-gandullas-id28114',\n",
       "       'pozuelo-de-alarcon-id28115', 'pozuelo-del-rey-id28116',\n",
       "       'pradena-del-rincon-id28117', 'puebla-de-la-sierra-id28118',\n",
       "       'puentes-viejas-manjiron-id28902', 'quijorna-id28119',\n",
       "       'rascafria-id28120', 'reduena-id28121', 'ribatejada-id28122',\n",
       "       'rivas-vaciamadrid-id28123', 'robledillo-de-la-jara-id28124',\n",
       "       'robledo-de-chavela-id28125', 'robregordo-id28126',\n",
       "       'rozas-de-madrid-las-id28127', 'rozas-de-puerto-real-id28128',\n",
       "       'san-agustin-del-guadalix-id28129',\n",
       "       'san-fernando-de-henares-id28130',\n",
       "       'san-lorenzo-de-el-escorial-id28131',\n",
       "       'san-martin-de-la-vega-id28132',\n",
       "       'san-martin-de-valdeiglesias-id28133',\n",
       "       'san-sebastian-de-los-reyes-id28134',\n",
       "       'santa-maria-de-la-alameda-id28135', 'santorcaz-id28136',\n",
       "       'santos-de-la-humosa-los-id28137', 'serna-del-monte-la-id28138',\n",
       "       'serranillos-del-valle-id28140', 'sevilla-la-nueva-id28141',\n",
       "       'somosierra-id28143', 'soto-del-real-id28144',\n",
       "       'talamanca-de-jarama-id28145', 'tielmes-id28146',\n",
       "       'titulcia-id28147', 'torrejon-de-ardoz-id28148',\n",
       "       'torrejon-de-la-calzada-id28149', 'torrejon-de-velasco-id28150',\n",
       "       'torrelaguna-id28151', 'torrelodones-id28152',\n",
       "       'torremocha-de-jarama-id28153', 'torres-de-la-alameda-id28154',\n",
       "       'tres-cantos-id28903', 'valdaracete-id28155', 'valdeavero-id28156',\n",
       "       'valdelaguna-id28157', 'valdemanco-id28158',\n",
       "       'valdemaqueda-id28159', 'valdemorillo-id28160',\n",
       "       'valdemoro-id28161', 'valdeolmos-alalpardo-id28162',\n",
       "       'valdepielagos-id28163', 'valdetorres-de-jarama-id28164',\n",
       "       'valdilecha-id28165', 'valverde-de-alcala-id28166',\n",
       "       'velilla-de-san-antonio-id28167', 'vellon-el-id28168',\n",
       "       'venturada-id28169', 'villaconejos-id28170',\n",
       "       'villa-del-prado-id28171', 'villalbilla-id28172',\n",
       "       'villamanrique-de-tajo-id28173', 'villamanta-id28174',\n",
       "       'villamantilla-id28175', 'villanueva-de-la-canada-id28176',\n",
       "       'villanueva-del-pardillo-id28177', 'villanueva-de-perales-id28178',\n",
       "       'villar-del-olmo-id28179', 'villarejo-de-salvanes-id28180',\n",
       "       'villaviciosa-de-odon-id28181', 'villavieja-del-lozoya-id28182',\n",
       "       'zarzalejo-id28183'], dtype=object)"
      ]
     },
     "execution_count": 6,
     "metadata": {},
     "output_type": "execute_result"
    }
   ],
   "source": [
    "aemet[\"localizacion_id\"].unique()"
   ]
  },
  {
   "cell_type": "code",
   "execution_count": 7,
   "metadata": {},
   "outputs": [
    {
     "data": {
      "text/plain": [
       "array(['2024-08-29 12:00:00', '2024-08-29 13:00:00',\n",
       "       '2024-08-29 14:00:00', '2024-08-29 15:00:00',\n",
       "       '2024-08-29 16:00:00', '2024-08-29 17:00:00',\n",
       "       '2024-08-29 18:00:00', '2024-08-29 19:00:00',\n",
       "       '2024-08-29 20:00:00', '2024-08-29 21:00:00',\n",
       "       '2024-08-29 22:00:00', '2024-08-29 23:00:00',\n",
       "       '2024-08-30 00:00:00', '2024-08-30 01:00:00',\n",
       "       '2024-08-30 02:00:00', '2024-08-30 03:00:00',\n",
       "       '2024-08-30 04:00:00', '2024-08-30 05:00:00',\n",
       "       '2024-08-30 06:00:00', '2024-08-30 07:00:00',\n",
       "       '2024-08-30 08:00:00', '2024-08-30 09:00:00',\n",
       "       '2024-08-30 10:00:00', '2024-08-30 11:00:00',\n",
       "       '2024-08-30 12:00:00', '2024-08-30 13:00:00',\n",
       "       '2024-08-30 14:00:00', '2024-08-30 15:00:00',\n",
       "       '2024-08-30 16:00:00', '2024-08-30 17:00:00',\n",
       "       '2024-08-30 18:00:00', '2024-08-30 19:00:00',\n",
       "       '2024-08-30 20:00:00', '2024-08-30 21:00:00',\n",
       "       '2024-08-30 22:00:00', '2024-08-30 23:00:00',\n",
       "       '2024-08-31 00:00:00', '2024-08-31 01:00:00',\n",
       "       '2024-08-31 02:00:00', '2024-08-31 03:00:00',\n",
       "       '2024-08-31 04:00:00', '2024-08-31 05:00:00',\n",
       "       '2024-08-31 06:00:00', '2024-08-31 07:00:00',\n",
       "       '2024-08-29 11:00:00'], dtype=object)"
      ]
     },
     "execution_count": 7,
     "metadata": {},
     "output_type": "execute_result"
    }
   ],
   "source": [
    "aemet[\"fecha\"].unique()"
   ]
  },
  {
   "cell_type": "code",
   "execution_count": 8,
   "metadata": {},
   "outputs": [
    {
     "data": {
      "text/plain": [
       "array(['Nubes altas', 'Muy nuboso',\n",
       "       'Cubierto con tormenta y lluvia escasa', 'Nuboso',\n",
       "       'Cielo despejado', 'Poco nuboso',\n",
       "       'Intervalos nubosos con lluvia escasa', 'Cubierto',\n",
       "       'Cubierto con lluvia escasa', 'Cubierto con lluvia',\n",
       "       'Muy nuboso con tormenta y lluvia escasa', 'Muy nuboso con lluvia',\n",
       "       'Intervalos nubosos', 'Muy nuboso con lluvia escasa',\n",
       "       'Nuboso con tormenta y lluvia escasa', 'Cubierto con tormenta',\n",
       "       'Nuboso con lluvia escasa', 'Intervalos nubosos con lluvia',\n",
       "       'Bruma', 'Niebla', 'Nuboso con lluvia', 'Muy nuboso con tormenta',\n",
       "       'Nuboso con tormenta'], dtype=object)"
      ]
     },
     "execution_count": 8,
     "metadata": {},
     "output_type": "execute_result"
    }
   ],
   "source": [
    "aemet[\"cielo\"].unique()"
   ]
  },
  {
   "cell_type": "code",
   "execution_count": 9,
   "metadata": {},
   "outputs": [
    {
     "data": {
      "text/html": [
       "<div>\n",
       "<style scoped>\n",
       "    .dataframe tbody tr th:only-of-type {\n",
       "        vertical-align: middle;\n",
       "    }\n",
       "\n",
       "    .dataframe tbody tr th {\n",
       "        vertical-align: top;\n",
       "    }\n",
       "\n",
       "    .dataframe thead th {\n",
       "        text-align: right;\n",
       "    }\n",
       "</style>\n",
       "<table border=\"1\" class=\"dataframe\">\n",
       "  <thead>\n",
       "    <tr style=\"text-align: right;\">\n",
       "      <th></th>\n",
       "      <th>acebeda-la</th>\n",
       "      <th>ajalvir</th>\n",
       "      <th>alameda-del-valle</th>\n",
       "      <th>alamo-el</th>\n",
       "      <th>alcala-de-henares</th>\n",
       "      <th>alcobendas</th>\n",
       "      <th>alcorcon</th>\n",
       "      <th>aldea-del-fresno</th>\n",
       "      <th>algete</th>\n",
       "      <th>alpedrete</th>\n",
       "      <th>...</th>\n",
       "      <th>villamanta</th>\n",
       "      <th>villamantilla</th>\n",
       "      <th>villanueva-de-la-canada</th>\n",
       "      <th>villanueva-del-pardillo</th>\n",
       "      <th>villanueva-de-perales</th>\n",
       "      <th>villar-del-olmo</th>\n",
       "      <th>villarejo-de-salvanes</th>\n",
       "      <th>villaviciosa-de-odon</th>\n",
       "      <th>villavieja-del-lozoya</th>\n",
       "      <th>zarzalejo</th>\n",
       "    </tr>\n",
       "  </thead>\n",
       "  <tbody>\n",
       "    <tr>\n",
       "      <th>0</th>\n",
       "      <td>41.0869583</td>\n",
       "      <td>40.5342302</td>\n",
       "      <td>40.9177178</td>\n",
       "      <td>40.2307296</td>\n",
       "      <td>40.4818396</td>\n",
       "      <td>40.5400082</td>\n",
       "      <td>40.3492998</td>\n",
       "      <td>40.3215212</td>\n",
       "      <td>40.5961652</td>\n",
       "      <td>40.6599005</td>\n",
       "      <td>...</td>\n",
       "      <td>40.2990939</td>\n",
       "      <td>40.3421033</td>\n",
       "      <td>40.4472106</td>\n",
       "      <td>40.4949232</td>\n",
       "      <td>40.3466066</td>\n",
       "      <td>40.3364465</td>\n",
       "      <td>40.1683582</td>\n",
       "      <td>40.3573787</td>\n",
       "      <td>41.0063622</td>\n",
       "      <td>40.5483016</td>\n",
       "    </tr>\n",
       "  </tbody>\n",
       "</table>\n",
       "<p>1 rows × 176 columns</p>\n",
       "</div>"
      ],
      "text/plain": [
       "   acebeda-la     ajalvir alameda-del-valle    alamo-el alcala-de-henares  \\\n",
       "0  41.0869583  40.5342302        40.9177178  40.2307296        40.4818396   \n",
       "\n",
       "   alcobendas    alcorcon aldea-del-fresno      algete   alpedrete  ...  \\\n",
       "0  40.5400082  40.3492998       40.3215212  40.5961652  40.6599005  ...   \n",
       "\n",
       "   villamanta villamantilla villanueva-de-la-canada villanueva-del-pardillo  \\\n",
       "0  40.2990939    40.3421033              40.4472106              40.4949232   \n",
       "\n",
       "  villanueva-de-perales villar-del-olmo villarejo-de-salvanes  \\\n",
       "0            40.3466066      40.3364465            40.1683582   \n",
       "\n",
       "  villaviciosa-de-odon villavieja-del-lozoya   zarzalejo  \n",
       "0           40.3573787            41.0063622  40.5483016  \n",
       "\n",
       "[1 rows x 176 columns]"
      ]
     },
     "execution_count": 9,
     "metadata": {},
     "output_type": "execute_result"
    }
   ],
   "source": [
    "municipios.head(1)"
   ]
  },
  {
   "cell_type": "code",
   "execution_count": 10,
   "metadata": {},
   "outputs": [
    {
     "data": {
      "text/html": [
       "<div>\n",
       "<style scoped>\n",
       "    .dataframe tbody tr th:only-of-type {\n",
       "        vertical-align: middle;\n",
       "    }\n",
       "\n",
       "    .dataframe tbody tr th {\n",
       "        vertical-align: top;\n",
       "    }\n",
       "\n",
       "    .dataframe thead th {\n",
       "        text-align: right;\n",
       "    }\n",
       "</style>\n",
       "<table border=\"1\" class=\"dataframe\">\n",
       "  <thead>\n",
       "    <tr style=\"text-align: right;\">\n",
       "      <th></th>\n",
       "      <th>0</th>\n",
       "      <th>1</th>\n",
       "      <th>2</th>\n",
       "    </tr>\n",
       "  </thead>\n",
       "  <tbody>\n",
       "    <tr>\n",
       "      <th>acebeda-la</th>\n",
       "      <td>41.0869583</td>\n",
       "      <td>-3.624399</td>\n",
       "      <td>La Acebeda</td>\n",
       "    </tr>\n",
       "    <tr>\n",
       "      <th>ajalvir</th>\n",
       "      <td>40.5342302</td>\n",
       "      <td>-3.4807818</td>\n",
       "      <td>Ajalvir</td>\n",
       "    </tr>\n",
       "    <tr>\n",
       "      <th>alameda-del-valle</th>\n",
       "      <td>40.9177178</td>\n",
       "      <td>-3.8438216</td>\n",
       "      <td>Alameda del Valle</td>\n",
       "    </tr>\n",
       "    <tr>\n",
       "      <th>alamo-el</th>\n",
       "      <td>40.2307296</td>\n",
       "      <td>-3.9905893</td>\n",
       "      <td>El Álamo</td>\n",
       "    </tr>\n",
       "    <tr>\n",
       "      <th>alcala-de-henares</th>\n",
       "      <td>40.4818396</td>\n",
       "      <td>-3.3644973</td>\n",
       "      <td>Alcalá de Henares</td>\n",
       "    </tr>\n",
       "    <tr>\n",
       "      <th>...</th>\n",
       "      <td>...</td>\n",
       "      <td>...</td>\n",
       "      <td>...</td>\n",
       "    </tr>\n",
       "    <tr>\n",
       "      <th>villar-del-olmo</th>\n",
       "      <td>40.3364465</td>\n",
       "      <td>-3.2355624</td>\n",
       "      <td>Villar del Olmo</td>\n",
       "    </tr>\n",
       "    <tr>\n",
       "      <th>villarejo-de-salvanes</th>\n",
       "      <td>40.1683582</td>\n",
       "      <td>-3.2738764</td>\n",
       "      <td>Villarejo de Salvanés</td>\n",
       "    </tr>\n",
       "    <tr>\n",
       "      <th>villaviciosa-de-odon</th>\n",
       "      <td>40.3573787</td>\n",
       "      <td>-3.9002334</td>\n",
       "      <td>Villaviciosa de Odón</td>\n",
       "    </tr>\n",
       "    <tr>\n",
       "      <th>villavieja-del-lozoya</th>\n",
       "      <td>41.0063622</td>\n",
       "      <td>-3.6716291</td>\n",
       "      <td>Villavieja del Lozoya</td>\n",
       "    </tr>\n",
       "    <tr>\n",
       "      <th>zarzalejo</th>\n",
       "      <td>40.5483016</td>\n",
       "      <td>-4.1815899</td>\n",
       "      <td>Zarzalejo</td>\n",
       "    </tr>\n",
       "  </tbody>\n",
       "</table>\n",
       "<p>176 rows × 3 columns</p>\n",
       "</div>"
      ],
      "text/plain": [
       "                                0           1                      2\n",
       "acebeda-la             41.0869583   -3.624399             La Acebeda\n",
       "ajalvir                40.5342302  -3.4807818                Ajalvir\n",
       "alameda-del-valle      40.9177178  -3.8438216      Alameda del Valle\n",
       "alamo-el               40.2307296  -3.9905893               El Álamo\n",
       "alcala-de-henares      40.4818396  -3.3644973      Alcalá de Henares\n",
       "...                           ...         ...                    ...\n",
       "villar-del-olmo        40.3364465  -3.2355624        Villar del Olmo\n",
       "villarejo-de-salvanes  40.1683582  -3.2738764  Villarejo de Salvanés\n",
       "villaviciosa-de-odon   40.3573787  -3.9002334   Villaviciosa de Odón\n",
       "villavieja-del-lozoya  41.0063622  -3.6716291  Villavieja del Lozoya\n",
       "zarzalejo              40.5483016  -4.1815899              Zarzalejo\n",
       "\n",
       "[176 rows x 3 columns]"
      ]
     },
     "execution_count": 10,
     "metadata": {},
     "output_type": "execute_result"
    }
   ],
   "source": [
    "municipios.T"
   ]
  },
  {
   "cell_type": "markdown",
   "metadata": {},
   "source": [
    "# Que tablas voy a hacer y por orden:\n",
    "- Municipios\n",
    "    - id_municipio PK\n",
    "    - nombre\n",
    "    - latitud\n",
    "    - longitud\n",
    "\n",
    "- Categorías\n",
    "    - id_categoria PK\n",
    "    - tipo\n",
    "\n",
    "- Estado cielo\n",
    "    - id_estado PK\n",
    "    - estado\n",
    "\n",
    "- Fecha\n",
    "    - id_fecha PK\n",
    "    - Fecha\n",
    "\n",
    "Tiempo\n",
    "    - id_tiempo PK\n",
    "    - id_estado_cielo (FK estado cielo)\n",
    "    - id_municipio (FK municipio)\n",
    "    - id_fecha (FK fecha)\n",
    "    - temperatura\n",
    "    - sensacion_temp\n",
    "    - racha_max\n",
    "    - precipitación\n",
    "    - nieve\n",
    "    - humedad\n",
    "    - probabilidad precipitación\n",
    "    - probabilidad nieve\n",
    "    - probabilidad tormenta\n",
    "    - Dirección viento\n",
    "\n",
    "- Lugares\n",
    "    - id_lugar PK\n",
    "    - id_categoría (FK categorías)\n",
    "    - id_municipio (FK municipio)\n",
    "    - id_tiempo (FK tiempo)\n",
    "    - nombre\n",
    "    - dirección\n",
    "    - distancia (al centro del municipio)\n",
    "\n",
    "\n",
    "Ahora tengo que hacer los DF de cada una\n"
   ]
  },
  {
   "cell_type": "markdown",
   "metadata": {},
   "source": [
    "# Municipios\n",
    "- Municipios\n",
    "    - id_municipio PK\n",
    "    - nombre\n",
    "    - latitud\n",
    "    - longitud\n"
   ]
  },
  {
   "cell_type": "code",
   "execution_count": 11,
   "metadata": {},
   "outputs": [],
   "source": [
    "df_municipios = municipios.T"
   ]
  },
  {
   "cell_type": "code",
   "execution_count": 12,
   "metadata": {},
   "outputs": [
    {
     "data": {
      "text/html": [
       "<div>\n",
       "<style scoped>\n",
       "    .dataframe tbody tr th:only-of-type {\n",
       "        vertical-align: middle;\n",
       "    }\n",
       "\n",
       "    .dataframe tbody tr th {\n",
       "        vertical-align: top;\n",
       "    }\n",
       "\n",
       "    .dataframe thead th {\n",
       "        text-align: right;\n",
       "    }\n",
       "</style>\n",
       "<table border=\"1\" class=\"dataframe\">\n",
       "  <thead>\n",
       "    <tr style=\"text-align: right;\">\n",
       "      <th></th>\n",
       "      <th>0</th>\n",
       "      <th>1</th>\n",
       "      <th>2</th>\n",
       "    </tr>\n",
       "  </thead>\n",
       "  <tbody>\n",
       "    <tr>\n",
       "      <th>acebeda-la</th>\n",
       "      <td>41.0869583</td>\n",
       "      <td>-3.624399</td>\n",
       "      <td>La Acebeda</td>\n",
       "    </tr>\n",
       "  </tbody>\n",
       "</table>\n",
       "</div>"
      ],
      "text/plain": [
       "                     0          1           2\n",
       "acebeda-la  41.0869583  -3.624399  La Acebeda"
      ]
     },
     "execution_count": 12,
     "metadata": {},
     "output_type": "execute_result"
    }
   ],
   "source": [
    "df_municipios.head(1)"
   ]
  },
  {
   "cell_type": "code",
   "execution_count": 13,
   "metadata": {},
   "outputs": [
    {
     "data": {
      "text/html": [
       "<div>\n",
       "<style scoped>\n",
       "    .dataframe tbody tr th:only-of-type {\n",
       "        vertical-align: middle;\n",
       "    }\n",
       "\n",
       "    .dataframe tbody tr th {\n",
       "        vertical-align: top;\n",
       "    }\n",
       "\n",
       "    .dataframe thead th {\n",
       "        text-align: right;\n",
       "    }\n",
       "</style>\n",
       "<table border=\"1\" class=\"dataframe\">\n",
       "  <thead>\n",
       "    <tr style=\"text-align: right;\">\n",
       "      <th></th>\n",
       "      <th>latitud</th>\n",
       "      <th>longitud</th>\n",
       "      <th>municipio</th>\n",
       "    </tr>\n",
       "  </thead>\n",
       "  <tbody>\n",
       "    <tr>\n",
       "      <th>0</th>\n",
       "      <td>41.0869583</td>\n",
       "      <td>-3.624399</td>\n",
       "      <td>La Acebeda</td>\n",
       "    </tr>\n",
       "  </tbody>\n",
       "</table>\n",
       "</div>"
      ],
      "text/plain": [
       "      latitud   longitud   municipio\n",
       "0  41.0869583  -3.624399  La Acebeda"
      ]
     },
     "execution_count": 13,
     "metadata": {},
     "output_type": "execute_result"
    }
   ],
   "source": [
    "df_municipios = df_municipios.rename(columns={0 : \"latitud\",\n",
    "                                              1 : \"longitud\",\n",
    "                                              2 : \"municipio\"})\n",
    "df_municipios\n",
    "df_municipios.reset_index(inplace=True,drop=True)\n",
    "df_municipios.head(1)"
   ]
  },
  {
   "cell_type": "code",
   "execution_count": 14,
   "metadata": {},
   "outputs": [
    {
     "data": {
      "text/html": [
       "<div>\n",
       "<style scoped>\n",
       "    .dataframe tbody tr th:only-of-type {\n",
       "        vertical-align: middle;\n",
       "    }\n",
       "\n",
       "    .dataframe tbody tr th {\n",
       "        vertical-align: top;\n",
       "    }\n",
       "\n",
       "    .dataframe thead th {\n",
       "        text-align: right;\n",
       "    }\n",
       "</style>\n",
       "<table border=\"1\" class=\"dataframe\">\n",
       "  <thead>\n",
       "    <tr style=\"text-align: right;\">\n",
       "      <th></th>\n",
       "      <th>municipio</th>\n",
       "      <th>latitud</th>\n",
       "      <th>longitud</th>\n",
       "    </tr>\n",
       "  </thead>\n",
       "  <tbody>\n",
       "    <tr>\n",
       "      <th>0</th>\n",
       "      <td>La Acebeda</td>\n",
       "      <td>41.0869583</td>\n",
       "      <td>-3.624399</td>\n",
       "    </tr>\n",
       "  </tbody>\n",
       "</table>\n",
       "</div>"
      ],
      "text/plain": [
       "    municipio     latitud   longitud\n",
       "0  La Acebeda  41.0869583  -3.624399"
      ]
     },
     "execution_count": 14,
     "metadata": {},
     "output_type": "execute_result"
    }
   ],
   "source": [
    "df_municipios = df_municipios[[\"municipio\",\"latitud\",\"longitud\"]]\n",
    "df_municipios.head(1)"
   ]
  },
  {
   "cell_type": "code",
   "execution_count": 15,
   "metadata": {},
   "outputs": [
    {
     "data": {
      "text/html": [
       "<div>\n",
       "<style scoped>\n",
       "    .dataframe tbody tr th:only-of-type {\n",
       "        vertical-align: middle;\n",
       "    }\n",
       "\n",
       "    .dataframe tbody tr th {\n",
       "        vertical-align: top;\n",
       "    }\n",
       "\n",
       "    .dataframe thead th {\n",
       "        text-align: right;\n",
       "    }\n",
       "</style>\n",
       "<table border=\"1\" class=\"dataframe\">\n",
       "  <thead>\n",
       "    <tr style=\"text-align: right;\">\n",
       "      <th></th>\n",
       "      <th>municipio</th>\n",
       "      <th>latitud</th>\n",
       "      <th>longitud</th>\n",
       "    </tr>\n",
       "  </thead>\n",
       "  <tbody>\n",
       "    <tr>\n",
       "      <th>0</th>\n",
       "      <td>La Acebeda</td>\n",
       "      <td>41.086958</td>\n",
       "      <td>-3.624399</td>\n",
       "    </tr>\n",
       "  </tbody>\n",
       "</table>\n",
       "</div>"
      ],
      "text/plain": [
       "    municipio    latitud  longitud\n",
       "0  La Acebeda  41.086958 -3.624399"
      ]
     },
     "execution_count": 15,
     "metadata": {},
     "output_type": "execute_result"
    }
   ],
   "source": [
    "df_municipios[\"latitud\"] = df_municipios[\"latitud\"].astype(float)\n",
    "df_municipios[\"longitud\"] = df_municipios[\"longitud\"].astype(float)\n",
    "df_municipios.head(1)"
   ]
  },
  {
   "cell_type": "markdown",
   "metadata": {},
   "source": [
    "# Categorías\n",
    "- Categorías\n",
    "    - id_categoria PK\n",
    "    - tipo\n"
   ]
  },
  {
   "cell_type": "code",
   "execution_count": 16,
   "metadata": {},
   "outputs": [
    {
     "data": {
      "text/html": [
       "<div>\n",
       "<style scoped>\n",
       "    .dataframe tbody tr th:only-of-type {\n",
       "        vertical-align: middle;\n",
       "    }\n",
       "\n",
       "    .dataframe tbody tr th {\n",
       "        vertical-align: top;\n",
       "    }\n",
       "\n",
       "    .dataframe thead th {\n",
       "        text-align: right;\n",
       "    }\n",
       "</style>\n",
       "<table border=\"1\" class=\"dataframe\">\n",
       "  <thead>\n",
       "    <tr style=\"text-align: right;\">\n",
       "      <th></th>\n",
       "      <th>municipio</th>\n",
       "      <th>category</th>\n",
       "      <th>fsq_id</th>\n",
       "      <th>closed_bucket</th>\n",
       "      <th>distance</th>\n",
       "      <th>link</th>\n",
       "      <th>name</th>\n",
       "      <th>address</th>\n",
       "      <th>latitude</th>\n",
       "      <th>longitude</th>\n",
       "    </tr>\n",
       "  </thead>\n",
       "  <tbody>\n",
       "    <tr>\n",
       "      <th>0</th>\n",
       "      <td>ajalvir</td>\n",
       "      <td>Park</td>\n",
       "      <td>4d3c6c5b84d46ea87dddfd5c</td>\n",
       "      <td>LikelyOpen</td>\n",
       "      <td>563.0</td>\n",
       "      <td>/v3/places/4d3c6c5b84d46ea87dddfd5c</td>\n",
       "      <td>Diverjungla</td>\n",
       "      <td>Calle Segovia, 20 (Pol. Ind. Donada), 28864 Aj...</td>\n",
       "      <td>40.529921</td>\n",
       "      <td>-3.484341</td>\n",
       "    </tr>\n",
       "  </tbody>\n",
       "</table>\n",
       "</div>"
      ],
      "text/plain": [
       "  municipio category                    fsq_id closed_bucket  distance  \\\n",
       "0   ajalvir     Park  4d3c6c5b84d46ea87dddfd5c    LikelyOpen     563.0   \n",
       "\n",
       "                                  link         name  \\\n",
       "0  /v3/places/4d3c6c5b84d46ea87dddfd5c  Diverjungla   \n",
       "\n",
       "                                             address   latitude  longitude  \n",
       "0  Calle Segovia, 20 (Pol. Ind. Donada), 28864 Aj...  40.529921  -3.484341  "
      ]
     },
     "execution_count": 16,
     "metadata": {},
     "output_type": "execute_result"
    }
   ],
   "source": [
    "foursquare.head(1)"
   ]
  },
  {
   "cell_type": "code",
   "execution_count": 17,
   "metadata": {},
   "outputs": [
    {
     "data": {
      "text/html": [
       "<div>\n",
       "<style scoped>\n",
       "    .dataframe tbody tr th:only-of-type {\n",
       "        vertical-align: middle;\n",
       "    }\n",
       "\n",
       "    .dataframe tbody tr th {\n",
       "        vertical-align: top;\n",
       "    }\n",
       "\n",
       "    .dataframe thead th {\n",
       "        text-align: right;\n",
       "    }\n",
       "</style>\n",
       "<table border=\"1\" class=\"dataframe\">\n",
       "  <thead>\n",
       "    <tr style=\"text-align: right;\">\n",
       "      <th></th>\n",
       "      <th>categoria</th>\n",
       "    </tr>\n",
       "  </thead>\n",
       "  <tbody>\n",
       "    <tr>\n",
       "      <th>0</th>\n",
       "      <td>Park</td>\n",
       "    </tr>\n",
       "  </tbody>\n",
       "</table>\n",
       "</div>"
      ],
      "text/plain": [
       "  categoria\n",
       "0      Park"
      ]
     },
     "execution_count": 17,
     "metadata": {},
     "output_type": "execute_result"
    }
   ],
   "source": [
    "df_categorias = pd.DataFrame(foursquare[\"category\"].unique())\n",
    "df_categorias = df_categorias.rename(columns={0 : \"categoria\"})\n",
    "df_categorias.sample()"
   ]
  },
  {
   "cell_type": "markdown",
   "metadata": {},
   "source": [
    "# Estado Cielo\n",
    "- Estado cielo\n",
    "    - id_estado PK\n",
    "    - estado\n"
   ]
  },
  {
   "cell_type": "code",
   "execution_count": 18,
   "metadata": {},
   "outputs": [
    {
     "data": {
      "text/html": [
       "<div>\n",
       "<style scoped>\n",
       "    .dataframe tbody tr th:only-of-type {\n",
       "        vertical-align: middle;\n",
       "    }\n",
       "\n",
       "    .dataframe tbody tr th {\n",
       "        vertical-align: top;\n",
       "    }\n",
       "\n",
       "    .dataframe thead th {\n",
       "        text-align: right;\n",
       "    }\n",
       "</style>\n",
       "<table border=\"1\" class=\"dataframe\">\n",
       "  <thead>\n",
       "    <tr style=\"text-align: right;\">\n",
       "      <th></th>\n",
       "      <th>estado_cielo</th>\n",
       "    </tr>\n",
       "  </thead>\n",
       "  <tbody>\n",
       "    <tr>\n",
       "      <th>7</th>\n",
       "      <td>Cubierto</td>\n",
       "    </tr>\n",
       "  </tbody>\n",
       "</table>\n",
       "</div>"
      ],
      "text/plain": [
       "  estado_cielo\n",
       "7     Cubierto"
      ]
     },
     "execution_count": 18,
     "metadata": {},
     "output_type": "execute_result"
    }
   ],
   "source": [
    "df_cielo = pd.DataFrame(aemet[\"cielo\"].unique())\n",
    "df_cielo = df_cielo.rename(columns={0 : \"estado_cielo\"})\n",
    "df_cielo.sample()"
   ]
  },
  {
   "cell_type": "code",
   "execution_count": 19,
   "metadata": {},
   "outputs": [],
   "source": [
    "df_cielo.to_csv(\"datos/output/estado_cielo.csv\")"
   ]
  },
  {
   "cell_type": "markdown",
   "metadata": {},
   "source": [
    "# Fecha\n",
    "- Fecha\n",
    "    - id_fecha PK\n",
    "    - Fecha\n"
   ]
  },
  {
   "cell_type": "code",
   "execution_count": 20,
   "metadata": {},
   "outputs": [
    {
     "data": {
      "text/html": [
       "<div>\n",
       "<style scoped>\n",
       "    .dataframe tbody tr th:only-of-type {\n",
       "        vertical-align: middle;\n",
       "    }\n",
       "\n",
       "    .dataframe tbody tr th {\n",
       "        vertical-align: top;\n",
       "    }\n",
       "\n",
       "    .dataframe thead th {\n",
       "        text-align: right;\n",
       "    }\n",
       "</style>\n",
       "<table border=\"1\" class=\"dataframe\">\n",
       "  <thead>\n",
       "    <tr style=\"text-align: right;\">\n",
       "      <th></th>\n",
       "      <th>fecha</th>\n",
       "    </tr>\n",
       "  </thead>\n",
       "  <tbody>\n",
       "    <tr>\n",
       "      <th>1</th>\n",
       "      <td>2024-08-29 13:00:00</td>\n",
       "    </tr>\n",
       "  </tbody>\n",
       "</table>\n",
       "</div>"
      ],
      "text/plain": [
       "                fecha\n",
       "1 2024-08-29 13:00:00"
      ]
     },
     "execution_count": 20,
     "metadata": {},
     "output_type": "execute_result"
    }
   ],
   "source": [
    "df_fechas = pd.DataFrame(aemet[\"fecha\"].unique())\n",
    "df_fechas = df_fechas.rename(columns={0 : \"fecha\"})\n",
    "df_fechas[\"fecha\"] = pd.to_datetime(df_fechas[\"fecha\"])\n",
    "df_fechas.sample()"
   ]
  },
  {
   "cell_type": "code",
   "execution_count": 21,
   "metadata": {},
   "outputs": [],
   "source": [
    "df_fechas.to_csv(\"datos/output/fechas.csv\")"
   ]
  },
  {
   "cell_type": "markdown",
   "metadata": {},
   "source": [
    "# Tiempo\n",
    "\n",
    "- Tiempo\n",
    "    - id_tiempo PK\n",
    "    - id_estado_cielo (FK estado cielo)\n",
    "    - id_municipio (FK municipio)\n",
    "    - id_fecha (FK fecha)\n",
    "    - temperatura\n",
    "    - sensacion_temp\n",
    "    - racha_max\n",
    "    - precipitación\n",
    "    - nieve\n",
    "    - humedad\n",
    "    - probabilidad precipitación\n",
    "    - probabilidad nieve\n",
    "    - probabilidad tormenta\n",
    "    - Dirección viento"
   ]
  },
  {
   "cell_type": "code",
   "execution_count": 22,
   "metadata": {},
   "outputs": [
    {
     "data": {
      "text/html": [
       "<div>\n",
       "<style scoped>\n",
       "    .dataframe tbody tr th:only-of-type {\n",
       "        vertical-align: middle;\n",
       "    }\n",
       "\n",
       "    .dataframe tbody tr th {\n",
       "        vertical-align: top;\n",
       "    }\n",
       "\n",
       "    .dataframe thead th {\n",
       "        text-align: right;\n",
       "    }\n",
       "</style>\n",
       "<table border=\"1\" class=\"dataframe\">\n",
       "  <thead>\n",
       "    <tr style=\"text-align: right;\">\n",
       "      <th></th>\n",
       "      <th>fecha</th>\n",
       "      <th>cielo</th>\n",
       "      <th>temp._(°c)</th>\n",
       "      <th>sen._térmica_(°c)</th>\n",
       "      <th>racha_máx._(km/h)</th>\n",
       "      <th>precipitación_(mm)</th>\n",
       "      <th>nieve_(mm)</th>\n",
       "      <th>humedad_relativa_(%)</th>\n",
       "      <th>prob._precip.__(%)</th>\n",
       "      <th>prob._de_nieve_(%)</th>\n",
       "      <th>prob._de_tormenta_(%)</th>\n",
       "      <th>avisos</th>\n",
       "      <th>dirección_viento</th>\n",
       "      <th>velocidad_del_viento</th>\n",
       "      <th>localizacion_id</th>\n",
       "    </tr>\n",
       "  </thead>\n",
       "  <tbody>\n",
       "    <tr>\n",
       "      <th>0</th>\n",
       "      <td>2024-08-29 12:00:00</td>\n",
       "      <td>Nubes altas</td>\n",
       "      <td>21</td>\n",
       "      <td>21</td>\n",
       "      <td>25.0</td>\n",
       "      <td>0.0</td>\n",
       "      <td>0</td>\n",
       "      <td>69</td>\n",
       "      <td>95</td>\n",
       "      <td>0</td>\n",
       "      <td>75</td>\n",
       "      <td>Riesgo</td>\n",
       "      <td>S</td>\n",
       "      <td>7</td>\n",
       "      <td>acebeda-la-id28001</td>\n",
       "    </tr>\n",
       "  </tbody>\n",
       "</table>\n",
       "</div>"
      ],
      "text/plain": [
       "                 fecha        cielo  temp._(°c)  sen._térmica_(°c)  \\\n",
       "0  2024-08-29 12:00:00  Nubes altas          21                 21   \n",
       "\n",
       "   racha_máx._(km/h)  precipitación_(mm)  nieve_(mm)  humedad_relativa_(%)  \\\n",
       "0               25.0                 0.0           0                    69   \n",
       "\n",
       "  prob._precip.__(%)  prob._de_nieve_(%)  prob._de_tormenta_(%)  avisos  \\\n",
       "0                 95                   0                     75  Riesgo   \n",
       "\n",
       "  dirección_viento  velocidad_del_viento     localizacion_id  \n",
       "0                S                     7  acebeda-la-id28001  "
      ]
     },
     "execution_count": 22,
     "metadata": {},
     "output_type": "execute_result"
    }
   ],
   "source": [
    "aemet.head(1)"
   ]
  },
  {
   "cell_type": "markdown",
   "metadata": {},
   "source": [
    "### Obterner Índices\n",
    "Primero vamos a obtener el índice del estado del cielo, voy a utilizar una función"
   ]
  },
  {
   "cell_type": "code",
   "execution_count": 23,
   "metadata": {},
   "outputs": [
    {
     "data": {
      "text/html": [
       "<div>\n",
       "<style scoped>\n",
       "    .dataframe tbody tr th:only-of-type {\n",
       "        vertical-align: middle;\n",
       "    }\n",
       "\n",
       "    .dataframe tbody tr th {\n",
       "        vertical-align: top;\n",
       "    }\n",
       "\n",
       "    .dataframe thead th {\n",
       "        text-align: right;\n",
       "    }\n",
       "</style>\n",
       "<table border=\"1\" class=\"dataframe\">\n",
       "  <thead>\n",
       "    <tr style=\"text-align: right;\">\n",
       "      <th></th>\n",
       "      <th>index</th>\n",
       "      <th>estado_cielo</th>\n",
       "    </tr>\n",
       "  </thead>\n",
       "  <tbody>\n",
       "    <tr>\n",
       "      <th>0</th>\n",
       "      <td>1</td>\n",
       "      <td>Nubes altas</td>\n",
       "    </tr>\n",
       "    <tr>\n",
       "      <th>1</th>\n",
       "      <td>2</td>\n",
       "      <td>Muy nuboso</td>\n",
       "    </tr>\n",
       "    <tr>\n",
       "      <th>2</th>\n",
       "      <td>3</td>\n",
       "      <td>Cubierto con tormenta y lluvia escasa</td>\n",
       "    </tr>\n",
       "    <tr>\n",
       "      <th>3</th>\n",
       "      <td>4</td>\n",
       "      <td>Nuboso</td>\n",
       "    </tr>\n",
       "    <tr>\n",
       "      <th>4</th>\n",
       "      <td>5</td>\n",
       "      <td>Cielo despejado</td>\n",
       "    </tr>\n",
       "  </tbody>\n",
       "</table>\n",
       "</div>"
      ],
      "text/plain": [
       "   index                           estado_cielo\n",
       "0      1                            Nubes altas\n",
       "1      2                             Muy nuboso\n",
       "2      3  Cubierto con tormenta y lluvia escasa\n",
       "3      4                                 Nuboso\n",
       "4      5                        Cielo despejado"
      ]
     },
     "execution_count": 23,
     "metadata": {},
     "output_type": "execute_result"
    }
   ],
   "source": [
    "df_cielo.head(1)\n",
    "df_cielo_work = df_cielo\n",
    "df_cielo_work.index = pd.RangeIndex(start=1,stop = 24,step=1)\n",
    "df_cielo_work.reset_index(inplace=True)\n",
    "df_cielo_work.head()"
   ]
  },
  {
   "cell_type": "code",
   "execution_count": 24,
   "metadata": {},
   "outputs": [],
   "source": [
    "df_aemet = aemet\n",
    "df_aemet = obtain_sky_state(df_aemet,df_cielo_work)"
   ]
  },
  {
   "cell_type": "code",
   "execution_count": 25,
   "metadata": {},
   "outputs": [
    {
     "data": {
      "text/html": [
       "<div>\n",
       "<style scoped>\n",
       "    .dataframe tbody tr th:only-of-type {\n",
       "        vertical-align: middle;\n",
       "    }\n",
       "\n",
       "    .dataframe tbody tr th {\n",
       "        vertical-align: top;\n",
       "    }\n",
       "\n",
       "    .dataframe thead th {\n",
       "        text-align: right;\n",
       "    }\n",
       "</style>\n",
       "<table border=\"1\" class=\"dataframe\">\n",
       "  <thead>\n",
       "    <tr style=\"text-align: right;\">\n",
       "      <th></th>\n",
       "      <th>fecha</th>\n",
       "      <th>cielo</th>\n",
       "      <th>indice_estado_cielo</th>\n",
       "      <th>temp._(°c)</th>\n",
       "      <th>sen._térmica_(°c)</th>\n",
       "      <th>racha_máx._(km/h)</th>\n",
       "      <th>precipitación_(mm)</th>\n",
       "      <th>nieve_(mm)</th>\n",
       "      <th>humedad_relativa_(%)</th>\n",
       "      <th>prob._precip.__(%)</th>\n",
       "      <th>prob._de_nieve_(%)</th>\n",
       "      <th>prob._de_tormenta_(%)</th>\n",
       "      <th>avisos</th>\n",
       "      <th>dirección_viento</th>\n",
       "      <th>velocidad_del_viento</th>\n",
       "      <th>localizacion_id</th>\n",
       "    </tr>\n",
       "  </thead>\n",
       "  <tbody>\n",
       "    <tr>\n",
       "      <th>2806</th>\n",
       "      <td>2024-08-30 16:00:00</td>\n",
       "      <td>Nubes altas</td>\n",
       "      <td>1</td>\n",
       "      <td>27</td>\n",
       "      <td>27</td>\n",
       "      <td>11.0</td>\n",
       "      <td>0.0</td>\n",
       "      <td>0</td>\n",
       "      <td>45</td>\n",
       "      <td>Riesgo</td>\n",
       "      <td>0</td>\n",
       "      <td>70</td>\n",
       "      <td>Sin riesgo</td>\n",
       "      <td>S</td>\n",
       "      <td>2</td>\n",
       "      <td>gascones-id28064</td>\n",
       "    </tr>\n",
       "  </tbody>\n",
       "</table>\n",
       "</div>"
      ],
      "text/plain": [
       "                    fecha        cielo  indice_estado_cielo  temp._(°c)  \\\n",
       "2806  2024-08-30 16:00:00  Nubes altas                    1          27   \n",
       "\n",
       "      sen._térmica_(°c)  racha_máx._(km/h)  precipitación_(mm)  nieve_(mm)  \\\n",
       "2806                 27               11.0                 0.0           0   \n",
       "\n",
       "      humedad_relativa_(%) prob._precip.__(%)  prob._de_nieve_(%)  \\\n",
       "2806                    45             Riesgo                   0   \n",
       "\n",
       "      prob._de_tormenta_(%)      avisos dirección_viento  \\\n",
       "2806                     70  Sin riesgo                S   \n",
       "\n",
       "      velocidad_del_viento   localizacion_id  \n",
       "2806                     2  gascones-id28064  "
      ]
     },
     "execution_count": 25,
     "metadata": {},
     "output_type": "execute_result"
    }
   ],
   "source": [
    "df_aemet.sample()"
   ]
  },
  {
   "cell_type": "markdown",
   "metadata": {},
   "source": [
    "Lo mismo para la fecha"
   ]
  },
  {
   "cell_type": "code",
   "execution_count": 26,
   "metadata": {},
   "outputs": [
    {
     "data": {
      "text/html": [
       "<div>\n",
       "<style scoped>\n",
       "    .dataframe tbody tr th:only-of-type {\n",
       "        vertical-align: middle;\n",
       "    }\n",
       "\n",
       "    .dataframe tbody tr th {\n",
       "        vertical-align: top;\n",
       "    }\n",
       "\n",
       "    .dataframe thead th {\n",
       "        text-align: right;\n",
       "    }\n",
       "</style>\n",
       "<table border=\"1\" class=\"dataframe\">\n",
       "  <thead>\n",
       "    <tr style=\"text-align: right;\">\n",
       "      <th></th>\n",
       "      <th>index</th>\n",
       "      <th>fecha</th>\n",
       "    </tr>\n",
       "  </thead>\n",
       "  <tbody>\n",
       "    <tr>\n",
       "      <th>0</th>\n",
       "      <td>1</td>\n",
       "      <td>2024-08-29 12:00:00</td>\n",
       "    </tr>\n",
       "    <tr>\n",
       "      <th>1</th>\n",
       "      <td>2</td>\n",
       "      <td>2024-08-29 13:00:00</td>\n",
       "    </tr>\n",
       "    <tr>\n",
       "      <th>2</th>\n",
       "      <td>3</td>\n",
       "      <td>2024-08-29 14:00:00</td>\n",
       "    </tr>\n",
       "    <tr>\n",
       "      <th>3</th>\n",
       "      <td>4</td>\n",
       "      <td>2024-08-29 15:00:00</td>\n",
       "    </tr>\n",
       "    <tr>\n",
       "      <th>4</th>\n",
       "      <td>5</td>\n",
       "      <td>2024-08-29 16:00:00</td>\n",
       "    </tr>\n",
       "  </tbody>\n",
       "</table>\n",
       "</div>"
      ],
      "text/plain": [
       "   index               fecha\n",
       "0      1 2024-08-29 12:00:00\n",
       "1      2 2024-08-29 13:00:00\n",
       "2      3 2024-08-29 14:00:00\n",
       "3      4 2024-08-29 15:00:00\n",
       "4      5 2024-08-29 16:00:00"
      ]
     },
     "execution_count": 26,
     "metadata": {},
     "output_type": "execute_result"
    }
   ],
   "source": [
    "df_fecha_work = df_fechas\n",
    "df_fecha_work.index = pd.RangeIndex(start=1,stop = 46,step=1)\n",
    "df_fecha_work.reset_index(inplace=True)\n",
    "df_fecha_work.head()"
   ]
  },
  {
   "cell_type": "code",
   "execution_count": 27,
   "metadata": {},
   "outputs": [
    {
     "name": "stderr",
     "output_type": "stream",
     "text": [
      "c:\\Users\\ruipe\\Desktop\\Data Science\\Semana 4\\labs\\laboratorio-modulo4-leccion03-SqlPython\\src\\SupportLab.py:52: SettingWithCopyWarning: \n",
      "A value is trying to be set on a copy of a slice from a DataFrame.\n",
      "Try using .loc[row_indexer,col_indexer] = value instead\n",
      "\n",
      "See the caveats in the documentation: https://pandas.pydata.org/pandas-docs/stable/user_guide/indexing.html#returning-a-view-versus-a-copy\n",
      "  df_to_modify[\"indice_fecha\"] = df_to_modify[\"fecha\"].map(diccionario)\n"
     ]
    },
    {
     "data": {
      "text/html": [
       "<div>\n",
       "<style scoped>\n",
       "    .dataframe tbody tr th:only-of-type {\n",
       "        vertical-align: middle;\n",
       "    }\n",
       "\n",
       "    .dataframe tbody tr th {\n",
       "        vertical-align: top;\n",
       "    }\n",
       "\n",
       "    .dataframe thead th {\n",
       "        text-align: right;\n",
       "    }\n",
       "</style>\n",
       "<table border=\"1\" class=\"dataframe\">\n",
       "  <thead>\n",
       "    <tr style=\"text-align: right;\">\n",
       "      <th></th>\n",
       "      <th>fecha</th>\n",
       "      <th>indice_fecha</th>\n",
       "      <th>cielo</th>\n",
       "      <th>indice_estado_cielo</th>\n",
       "      <th>temp._(°c)</th>\n",
       "      <th>sen._térmica_(°c)</th>\n",
       "      <th>racha_máx._(km/h)</th>\n",
       "      <th>precipitación_(mm)</th>\n",
       "      <th>nieve_(mm)</th>\n",
       "      <th>humedad_relativa_(%)</th>\n",
       "      <th>prob._precip.__(%)</th>\n",
       "      <th>prob._de_nieve_(%)</th>\n",
       "      <th>prob._de_tormenta_(%)</th>\n",
       "      <th>avisos</th>\n",
       "      <th>dirección_viento</th>\n",
       "      <th>velocidad_del_viento</th>\n",
       "      <th>localizacion_id</th>\n",
       "    </tr>\n",
       "  </thead>\n",
       "  <tbody>\n",
       "    <tr>\n",
       "      <th>4570</th>\n",
       "      <td>2024-08-30 20:00:00</td>\n",
       "      <td>33</td>\n",
       "      <td>Nubes altas</td>\n",
       "      <td>1</td>\n",
       "      <td>23</td>\n",
       "      <td>23</td>\n",
       "      <td>8.0</td>\n",
       "      <td>0.0</td>\n",
       "      <td>0</td>\n",
       "      <td>74</td>\n",
       "      <td>45</td>\n",
       "      <td>0</td>\n",
       "      <td>45</td>\n",
       "      <td>Sin riesgo</td>\n",
       "      <td>N</td>\n",
       "      <td>8</td>\n",
       "      <td>pedrezuela-id28108</td>\n",
       "    </tr>\n",
       "  </tbody>\n",
       "</table>\n",
       "</div>"
      ],
      "text/plain": [
       "                    fecha  indice_fecha        cielo  indice_estado_cielo  \\\n",
       "4570  2024-08-30 20:00:00            33  Nubes altas                    1   \n",
       "\n",
       "      temp._(°c)  sen._térmica_(°c)  racha_máx._(km/h)  precipitación_(mm)  \\\n",
       "4570          23                 23                8.0                 0.0   \n",
       "\n",
       "      nieve_(mm)  humedad_relativa_(%) prob._precip.__(%)  prob._de_nieve_(%)  \\\n",
       "4570           0                    74                 45                   0   \n",
       "\n",
       "      prob._de_tormenta_(%)      avisos dirección_viento  \\\n",
       "4570                     45  Sin riesgo                N   \n",
       "\n",
       "      velocidad_del_viento     localizacion_id  \n",
       "4570                     8  pedrezuela-id28108  "
      ]
     },
     "execution_count": 27,
     "metadata": {},
     "output_type": "execute_result"
    }
   ],
   "source": [
    "df_aemet2 = df_aemet\n",
    "df_aemet2 = obtain_date_index(df_aemet2,df_fecha_work)\n",
    "df_aemet2.sample()"
   ]
  },
  {
   "cell_type": "code",
   "execution_count": 28,
   "metadata": {},
   "outputs": [
    {
     "name": "stderr",
     "output_type": "stream",
     "text": [
      "C:\\Users\\ruipe\\AppData\\Local\\Temp\\ipykernel_2504\\5655269.py:2: SettingWithCopyWarning: \n",
      "A value is trying to be set on a copy of a slice from a DataFrame.\n",
      "Try using .loc[row_indexer,col_indexer] = value instead\n",
      "\n",
      "See the caveats in the documentation: https://pandas.pydata.org/pandas-docs/stable/user_guide/indexing.html#returning-a-view-versus-a-copy\n",
      "  df_aemet3[[\"localizacion\",\"id\"]] = df_aemet3[\"localizacion_id\"].str.rsplit(\"-\",n=1,expand = True)\n",
      "C:\\Users\\ruipe\\AppData\\Local\\Temp\\ipykernel_2504\\5655269.py:2: SettingWithCopyWarning: \n",
      "A value is trying to be set on a copy of a slice from a DataFrame.\n",
      "Try using .loc[row_indexer,col_indexer] = value instead\n",
      "\n",
      "See the caveats in the documentation: https://pandas.pydata.org/pandas-docs/stable/user_guide/indexing.html#returning-a-view-versus-a-copy\n",
      "  df_aemet3[[\"localizacion\",\"id\"]] = df_aemet3[\"localizacion_id\"].str.rsplit(\"-\",n=1,expand = True)\n"
     ]
    },
    {
     "data": {
      "text/html": [
       "<div>\n",
       "<style scoped>\n",
       "    .dataframe tbody tr th:only-of-type {\n",
       "        vertical-align: middle;\n",
       "    }\n",
       "\n",
       "    .dataframe tbody tr th {\n",
       "        vertical-align: top;\n",
       "    }\n",
       "\n",
       "    .dataframe thead th {\n",
       "        text-align: right;\n",
       "    }\n",
       "</style>\n",
       "<table border=\"1\" class=\"dataframe\">\n",
       "  <thead>\n",
       "    <tr style=\"text-align: right;\">\n",
       "      <th></th>\n",
       "      <th>fecha</th>\n",
       "      <th>indice_fecha</th>\n",
       "      <th>cielo</th>\n",
       "      <th>indice_estado_cielo</th>\n",
       "      <th>temp._(°c)</th>\n",
       "      <th>sen._térmica_(°c)</th>\n",
       "      <th>racha_máx._(km/h)</th>\n",
       "      <th>precipitación_(mm)</th>\n",
       "      <th>nieve_(mm)</th>\n",
       "      <th>humedad_relativa_(%)</th>\n",
       "      <th>prob._precip.__(%)</th>\n",
       "      <th>prob._de_nieve_(%)</th>\n",
       "      <th>prob._de_tormenta_(%)</th>\n",
       "      <th>avisos</th>\n",
       "      <th>dirección_viento</th>\n",
       "      <th>velocidad_del_viento</th>\n",
       "      <th>localizacion_id</th>\n",
       "      <th>localizacion</th>\n",
       "      <th>id</th>\n",
       "    </tr>\n",
       "  </thead>\n",
       "  <tbody>\n",
       "    <tr>\n",
       "      <th>6702</th>\n",
       "      <td>2024-08-29 18:00:00</td>\n",
       "      <td>7</td>\n",
       "      <td>Nuboso</td>\n",
       "      <td>4</td>\n",
       "      <td>25</td>\n",
       "      <td>25</td>\n",
       "      <td>32.0</td>\n",
       "      <td>0.0</td>\n",
       "      <td>0</td>\n",
       "      <td>43</td>\n",
       "      <td>Riesgo</td>\n",
       "      <td>0</td>\n",
       "      <td>75</td>\n",
       "      <td>Riesgo</td>\n",
       "      <td>S</td>\n",
       "      <td>19</td>\n",
       "      <td>valdelaguna-id28157</td>\n",
       "      <td>valdelaguna</td>\n",
       "      <td>id28157</td>\n",
       "    </tr>\n",
       "  </tbody>\n",
       "</table>\n",
       "</div>"
      ],
      "text/plain": [
       "                    fecha  indice_fecha   cielo  indice_estado_cielo  \\\n",
       "6702  2024-08-29 18:00:00             7  Nuboso                    4   \n",
       "\n",
       "      temp._(°c)  sen._térmica_(°c)  racha_máx._(km/h)  precipitación_(mm)  \\\n",
       "6702          25                 25               32.0                 0.0   \n",
       "\n",
       "      nieve_(mm)  humedad_relativa_(%) prob._precip.__(%)  prob._de_nieve_(%)  \\\n",
       "6702           0                    43             Riesgo                   0   \n",
       "\n",
       "      prob._de_tormenta_(%)  avisos dirección_viento  velocidad_del_viento  \\\n",
       "6702                     75  Riesgo                S                    19   \n",
       "\n",
       "          localizacion_id localizacion       id  \n",
       "6702  valdelaguna-id28157  valdelaguna  id28157  "
      ]
     },
     "execution_count": 28,
     "metadata": {},
     "output_type": "execute_result"
    }
   ],
   "source": [
    "df_aemet3 = df_aemet2\n",
    "df_aemet3[[\"localizacion\",\"id\"]] = df_aemet3[\"localizacion_id\"].str.rsplit(\"-\",n=1,expand = True)\n",
    "df_aemet3.sample()"
   ]
  },
  {
   "cell_type": "markdown",
   "metadata": {},
   "source": [
    "Ahora la localización id, que haremos un regex "
   ]
  },
  {
   "cell_type": "code",
   "execution_count": 29,
   "metadata": {},
   "outputs": [],
   "source": [
    "df_aemet3.drop(columns=[\"id\",\"localizacion_id\"],inplace=True)"
   ]
  },
  {
   "cell_type": "code",
   "execution_count": 30,
   "metadata": {},
   "outputs": [
    {
     "data": {
      "text/html": [
       "<div>\n",
       "<style scoped>\n",
       "    .dataframe tbody tr th:only-of-type {\n",
       "        vertical-align: middle;\n",
       "    }\n",
       "\n",
       "    .dataframe tbody tr th {\n",
       "        vertical-align: top;\n",
       "    }\n",
       "\n",
       "    .dataframe thead th {\n",
       "        text-align: right;\n",
       "    }\n",
       "</style>\n",
       "<table border=\"1\" class=\"dataframe\">\n",
       "  <thead>\n",
       "    <tr style=\"text-align: right;\">\n",
       "      <th></th>\n",
       "      <th>fecha</th>\n",
       "      <th>indice_fecha</th>\n",
       "      <th>cielo</th>\n",
       "      <th>indice_estado_cielo</th>\n",
       "      <th>temp._(°c)</th>\n",
       "      <th>sen._térmica_(°c)</th>\n",
       "      <th>racha_máx._(km/h)</th>\n",
       "      <th>precipitación_(mm)</th>\n",
       "      <th>nieve_(mm)</th>\n",
       "      <th>humedad_relativa_(%)</th>\n",
       "      <th>prob._precip.__(%)</th>\n",
       "      <th>prob._de_nieve_(%)</th>\n",
       "      <th>prob._de_tormenta_(%)</th>\n",
       "      <th>avisos</th>\n",
       "      <th>dirección_viento</th>\n",
       "      <th>velocidad_del_viento</th>\n",
       "      <th>localizacion</th>\n",
       "    </tr>\n",
       "  </thead>\n",
       "  <tbody>\n",
       "    <tr>\n",
       "      <th>1199</th>\n",
       "      <td>2024-08-29 21:00:00</td>\n",
       "      <td>10</td>\n",
       "      <td>Nubes altas</td>\n",
       "      <td>1</td>\n",
       "      <td>17</td>\n",
       "      <td>17</td>\n",
       "      <td>5.0</td>\n",
       "      <td>0.0</td>\n",
       "      <td>0</td>\n",
       "      <td>68</td>\n",
       "      <td>Riesgo</td>\n",
       "      <td>0</td>\n",
       "      <td>60</td>\n",
       "      <td>Riesgo</td>\n",
       "      <td>SO</td>\n",
       "      <td>3</td>\n",
       "      <td>bustarviejo</td>\n",
       "    </tr>\n",
       "  </tbody>\n",
       "</table>\n",
       "</div>"
      ],
      "text/plain": [
       "                    fecha  indice_fecha        cielo  indice_estado_cielo  \\\n",
       "1199  2024-08-29 21:00:00            10  Nubes altas                    1   \n",
       "\n",
       "      temp._(°c)  sen._térmica_(°c)  racha_máx._(km/h)  precipitación_(mm)  \\\n",
       "1199          17                 17                5.0                 0.0   \n",
       "\n",
       "      nieve_(mm)  humedad_relativa_(%) prob._precip.__(%)  prob._de_nieve_(%)  \\\n",
       "1199           0                    68             Riesgo                   0   \n",
       "\n",
       "      prob._de_tormenta_(%)  avisos dirección_viento  velocidad_del_viento  \\\n",
       "1199                     60  Riesgo               SO                     3   \n",
       "\n",
       "     localizacion  \n",
       "1199  bustarviejo  "
      ]
     },
     "execution_count": 30,
     "metadata": {},
     "output_type": "execute_result"
    }
   ],
   "source": [
    "df_aemet3.sample()"
   ]
  },
  {
   "cell_type": "markdown",
   "metadata": {},
   "source": [
    "### Ahora que ya tenemos el municipio bien usamos el df de municipios para darle su índice"
   ]
  },
  {
   "cell_type": "code",
   "execution_count": 31,
   "metadata": {},
   "outputs": [],
   "source": [
    "df_municipios_work = municipios.T\n",
    "df_municipios_work = df_municipios_work.reset_index()\n",
    "df_municipios_work.drop(columns=[0,1,2],inplace= True)\n",
    "df_municipios_work.index = pd.RangeIndex(start=1,stop = 177,step=1)\n",
    "df_municipios_work.reset_index(inplace=True)\n"
   ]
  },
  {
   "cell_type": "code",
   "execution_count": 32,
   "metadata": {},
   "outputs": [],
   "source": [
    "df_municipios_work = df_municipios_work.rename(columns={\"level_0\" : \"index\",\"index\" : \"municipio\"})"
   ]
  },
  {
   "cell_type": "code",
   "execution_count": 33,
   "metadata": {},
   "outputs": [],
   "source": [
    "df_aemet3 = obtain_municipio_index(df_aemet3,df_municipios_work)"
   ]
  },
  {
   "cell_type": "code",
   "execution_count": 34,
   "metadata": {},
   "outputs": [
    {
     "data": {
      "text/plain": [
       "localizacion\n",
       "cabrera-la     44\n",
       "leganes        44\n",
       "molinos-los    44\n",
       "Name: count, dtype: int64"
      ]
     },
     "execution_count": 34,
     "metadata": {},
     "output_type": "execute_result"
    }
   ],
   "source": [
    "condi = df_aemet3[\"indice_municipio\"].isnull() == True\n",
    "checkin = df_aemet3[condi]\n",
    "checkin[\"localizacion\"].value_counts()"
   ]
  },
  {
   "cell_type": "markdown",
   "metadata": {},
   "source": [
    "### Descubrimos que municipios necesita 3 valores más: cabrera-la, leganes y molino-los"
   ]
  },
  {
   "cell_type": "code",
   "execution_count": 35,
   "metadata": {},
   "outputs": [],
   "source": [
    "df_municipios_modif = municipios.T"
   ]
  },
  {
   "cell_type": "code",
   "execution_count": 36,
   "metadata": {},
   "outputs": [],
   "source": [
    "df_municipios_modif.reset_index(inplace=True)"
   ]
  },
  {
   "cell_type": "code",
   "execution_count": 37,
   "metadata": {},
   "outputs": [
    {
     "data": {
      "text/html": [
       "<div>\n",
       "<style scoped>\n",
       "    .dataframe tbody tr th:only-of-type {\n",
       "        vertical-align: middle;\n",
       "    }\n",
       "\n",
       "    .dataframe tbody tr th {\n",
       "        vertical-align: top;\n",
       "    }\n",
       "\n",
       "    .dataframe thead th {\n",
       "        text-align: right;\n",
       "    }\n",
       "</style>\n",
       "<table border=\"1\" class=\"dataframe\">\n",
       "  <thead>\n",
       "    <tr style=\"text-align: right;\">\n",
       "      <th></th>\n",
       "      <th>index</th>\n",
       "      <th>0</th>\n",
       "      <th>1</th>\n",
       "      <th>2</th>\n",
       "    </tr>\n",
       "  </thead>\n",
       "  <tbody>\n",
       "    <tr>\n",
       "      <th>0</th>\n",
       "      <td>acebeda-la</td>\n",
       "      <td>41.0869583</td>\n",
       "      <td>-3.624399</td>\n",
       "      <td>La Acebeda</td>\n",
       "    </tr>\n",
       "    <tr>\n",
       "      <th>1</th>\n",
       "      <td>ajalvir</td>\n",
       "      <td>40.5342302</td>\n",
       "      <td>-3.4807818</td>\n",
       "      <td>Ajalvir</td>\n",
       "    </tr>\n",
       "    <tr>\n",
       "      <th>2</th>\n",
       "      <td>alameda-del-valle</td>\n",
       "      <td>40.9177178</td>\n",
       "      <td>-3.8438216</td>\n",
       "      <td>Alameda del Valle</td>\n",
       "    </tr>\n",
       "    <tr>\n",
       "      <th>3</th>\n",
       "      <td>alamo-el</td>\n",
       "      <td>40.2307296</td>\n",
       "      <td>-3.9905893</td>\n",
       "      <td>El Álamo</td>\n",
       "    </tr>\n",
       "    <tr>\n",
       "      <th>4</th>\n",
       "      <td>alcala-de-henares</td>\n",
       "      <td>40.4818396</td>\n",
       "      <td>-3.3644973</td>\n",
       "      <td>Alcalá de Henares</td>\n",
       "    </tr>\n",
       "    <tr>\n",
       "      <th>...</th>\n",
       "      <td>...</td>\n",
       "      <td>...</td>\n",
       "      <td>...</td>\n",
       "      <td>...</td>\n",
       "    </tr>\n",
       "    <tr>\n",
       "      <th>171</th>\n",
       "      <td>villar-del-olmo</td>\n",
       "      <td>40.3364465</td>\n",
       "      <td>-3.2355624</td>\n",
       "      <td>Villar del Olmo</td>\n",
       "    </tr>\n",
       "    <tr>\n",
       "      <th>172</th>\n",
       "      <td>villarejo-de-salvanes</td>\n",
       "      <td>40.1683582</td>\n",
       "      <td>-3.2738764</td>\n",
       "      <td>Villarejo de Salvanés</td>\n",
       "    </tr>\n",
       "    <tr>\n",
       "      <th>173</th>\n",
       "      <td>villaviciosa-de-odon</td>\n",
       "      <td>40.3573787</td>\n",
       "      <td>-3.9002334</td>\n",
       "      <td>Villaviciosa de Odón</td>\n",
       "    </tr>\n",
       "    <tr>\n",
       "      <th>174</th>\n",
       "      <td>villavieja-del-lozoya</td>\n",
       "      <td>41.0063622</td>\n",
       "      <td>-3.6716291</td>\n",
       "      <td>Villavieja del Lozoya</td>\n",
       "    </tr>\n",
       "    <tr>\n",
       "      <th>175</th>\n",
       "      <td>zarzalejo</td>\n",
       "      <td>40.5483016</td>\n",
       "      <td>-4.1815899</td>\n",
       "      <td>Zarzalejo</td>\n",
       "    </tr>\n",
       "  </tbody>\n",
       "</table>\n",
       "<p>176 rows × 4 columns</p>\n",
       "</div>"
      ],
      "text/plain": [
       "                     index           0           1                      2\n",
       "0               acebeda-la  41.0869583   -3.624399             La Acebeda\n",
       "1                  ajalvir  40.5342302  -3.4807818                Ajalvir\n",
       "2        alameda-del-valle  40.9177178  -3.8438216      Alameda del Valle\n",
       "3                 alamo-el  40.2307296  -3.9905893               El Álamo\n",
       "4        alcala-de-henares  40.4818396  -3.3644973      Alcalá de Henares\n",
       "..                     ...         ...         ...                    ...\n",
       "171        villar-del-olmo  40.3364465  -3.2355624        Villar del Olmo\n",
       "172  villarejo-de-salvanes  40.1683582  -3.2738764  Villarejo de Salvanés\n",
       "173   villaviciosa-de-odon  40.3573787  -3.9002334   Villaviciosa de Odón\n",
       "174  villavieja-del-lozoya  41.0063622  -3.6716291  Villavieja del Lozoya\n",
       "175              zarzalejo  40.5483016  -4.1815899              Zarzalejo\n",
       "\n",
       "[176 rows x 4 columns]"
      ]
     },
     "execution_count": 37,
     "metadata": {},
     "output_type": "execute_result"
    }
   ],
   "source": [
    "df_municipios_modif"
   ]
  },
  {
   "cell_type": "code",
   "execution_count": 38,
   "metadata": {},
   "outputs": [],
   "source": [
    "df_municipios_modif = df_municipios_modif.rename(columns={\"index\":\"municipio sucio\",0 : \"latitud\", 1:\"longitud\",2:\"nombre municipio\"})"
   ]
  },
  {
   "cell_type": "code",
   "execution_count": 39,
   "metadata": {},
   "outputs": [
    {
     "data": {
      "text/html": [
       "<div>\n",
       "<style scoped>\n",
       "    .dataframe tbody tr th:only-of-type {\n",
       "        vertical-align: middle;\n",
       "    }\n",
       "\n",
       "    .dataframe tbody tr th {\n",
       "        vertical-align: top;\n",
       "    }\n",
       "\n",
       "    .dataframe thead th {\n",
       "        text-align: right;\n",
       "    }\n",
       "</style>\n",
       "<table border=\"1\" class=\"dataframe\">\n",
       "  <thead>\n",
       "    <tr style=\"text-align: right;\">\n",
       "      <th></th>\n",
       "      <th>municipio sucio</th>\n",
       "      <th>latitud</th>\n",
       "      <th>longitud</th>\n",
       "      <th>nombre municipio</th>\n",
       "    </tr>\n",
       "  </thead>\n",
       "  <tbody>\n",
       "    <tr>\n",
       "      <th>38</th>\n",
       "      <td>chapineria</td>\n",
       "      <td>40.379164</td>\n",
       "      <td>-4.2097254</td>\n",
       "      <td>Chapinería</td>\n",
       "    </tr>\n",
       "  </tbody>\n",
       "</table>\n",
       "</div>"
      ],
      "text/plain": [
       "   municipio sucio    latitud    longitud nombre municipio\n",
       "38      chapineria  40.379164  -4.2097254       Chapinería"
      ]
     },
     "execution_count": 39,
     "metadata": {},
     "output_type": "execute_result"
    }
   ],
   "source": [
    "df_municipios_modif.sample()"
   ]
  },
  {
   "cell_type": "code",
   "execution_count": 40,
   "metadata": {},
   "outputs": [],
   "source": [
    "municipios = [\"cabrera-la\",\"leganes\",\"molinos-los\"]"
   ]
  },
  {
   "cell_type": "code",
   "execution_count": 41,
   "metadata": {},
   "outputs": [
    {
     "name": "stderr",
     "output_type": "stream",
     "text": [
      "  0%|          | 0/3 [00:00<?, ?it/s]"
     ]
    },
    {
     "name": "stderr",
     "output_type": "stream",
     "text": [
      "100%|██████████| 3/3 [00:01<00:00,  2.38it/s]\n"
     ]
    }
   ],
   "source": [
    "df_municipios = geopy_search(municipios,df_municipios_modif)"
   ]
  },
  {
   "cell_type": "markdown",
   "metadata": {},
   "source": [
    "### Lo guardamos para luego, que ya está arreglado"
   ]
  },
  {
   "cell_type": "code",
   "execution_count": 42,
   "metadata": {},
   "outputs": [],
   "source": [
    "df_municipios.to_csv(\"datos/output/fixed_municipios.csv\")"
   ]
  },
  {
   "cell_type": "code",
   "execution_count": 43,
   "metadata": {},
   "outputs": [],
   "source": [
    "df_municipios.index = pd.RangeIndex(start=1,stop = 180,step=1)"
   ]
  },
  {
   "cell_type": "code",
   "execution_count": 44,
   "metadata": {},
   "outputs": [],
   "source": [
    "df_municipios.reset_index(inplace=True)"
   ]
  },
  {
   "cell_type": "code",
   "execution_count": 45,
   "metadata": {},
   "outputs": [],
   "source": [
    "df_municipios = df_municipios.drop(columns=[\"latitud\",\"longitud\",\"nombre municipio\"])"
   ]
  },
  {
   "cell_type": "code",
   "execution_count": 46,
   "metadata": {},
   "outputs": [
    {
     "data": {
      "text/html": [
       "<div>\n",
       "<style scoped>\n",
       "    .dataframe tbody tr th:only-of-type {\n",
       "        vertical-align: middle;\n",
       "    }\n",
       "\n",
       "    .dataframe tbody tr th {\n",
       "        vertical-align: top;\n",
       "    }\n",
       "\n",
       "    .dataframe thead th {\n",
       "        text-align: right;\n",
       "    }\n",
       "</style>\n",
       "<table border=\"1\" class=\"dataframe\">\n",
       "  <thead>\n",
       "    <tr style=\"text-align: right;\">\n",
       "      <th></th>\n",
       "      <th>index</th>\n",
       "      <th>municipio sucio</th>\n",
       "    </tr>\n",
       "  </thead>\n",
       "  <tbody>\n",
       "    <tr>\n",
       "      <th>0</th>\n",
       "      <td>1</td>\n",
       "      <td>acebeda-la</td>\n",
       "    </tr>\n",
       "    <tr>\n",
       "      <th>1</th>\n",
       "      <td>2</td>\n",
       "      <td>ajalvir</td>\n",
       "    </tr>\n",
       "    <tr>\n",
       "      <th>2</th>\n",
       "      <td>3</td>\n",
       "      <td>alameda-del-valle</td>\n",
       "    </tr>\n",
       "    <tr>\n",
       "      <th>3</th>\n",
       "      <td>4</td>\n",
       "      <td>alamo-el</td>\n",
       "    </tr>\n",
       "    <tr>\n",
       "      <th>4</th>\n",
       "      <td>5</td>\n",
       "      <td>alcala-de-henares</td>\n",
       "    </tr>\n",
       "    <tr>\n",
       "      <th>...</th>\n",
       "      <td>...</td>\n",
       "      <td>...</td>\n",
       "    </tr>\n",
       "    <tr>\n",
       "      <th>174</th>\n",
       "      <td>175</td>\n",
       "      <td>villavieja-del-lozoya</td>\n",
       "    </tr>\n",
       "    <tr>\n",
       "      <th>175</th>\n",
       "      <td>176</td>\n",
       "      <td>zarzalejo</td>\n",
       "    </tr>\n",
       "    <tr>\n",
       "      <th>176</th>\n",
       "      <td>177</td>\n",
       "      <td>cabrera-la</td>\n",
       "    </tr>\n",
       "    <tr>\n",
       "      <th>177</th>\n",
       "      <td>178</td>\n",
       "      <td>leganes</td>\n",
       "    </tr>\n",
       "    <tr>\n",
       "      <th>178</th>\n",
       "      <td>179</td>\n",
       "      <td>molinos-los</td>\n",
       "    </tr>\n",
       "  </tbody>\n",
       "</table>\n",
       "<p>179 rows × 2 columns</p>\n",
       "</div>"
      ],
      "text/plain": [
       "     index        municipio sucio\n",
       "0        1             acebeda-la\n",
       "1        2                ajalvir\n",
       "2        3      alameda-del-valle\n",
       "3        4               alamo-el\n",
       "4        5      alcala-de-henares\n",
       "..     ...                    ...\n",
       "174    175  villavieja-del-lozoya\n",
       "175    176              zarzalejo\n",
       "176    177             cabrera-la\n",
       "177    178                leganes\n",
       "178    179            molinos-los\n",
       "\n",
       "[179 rows x 2 columns]"
      ]
     },
     "execution_count": 46,
     "metadata": {},
     "output_type": "execute_result"
    }
   ],
   "source": [
    "df_municipios"
   ]
  },
  {
   "cell_type": "code",
   "execution_count": 47,
   "metadata": {},
   "outputs": [],
   "source": [
    "df_municipios = df_municipios.rename(columns={\"municipio sucio\":\"municipio\"})"
   ]
  },
  {
   "cell_type": "code",
   "execution_count": 48,
   "metadata": {},
   "outputs": [],
   "source": [
    "df_aemet3 = obtain_municipio_index(df_aemet3,df_municipios)"
   ]
  },
  {
   "cell_type": "code",
   "execution_count": 49,
   "metadata": {},
   "outputs": [
    {
     "data": {
      "text/html": [
       "<div>\n",
       "<style scoped>\n",
       "    .dataframe tbody tr th:only-of-type {\n",
       "        vertical-align: middle;\n",
       "    }\n",
       "\n",
       "    .dataframe tbody tr th {\n",
       "        vertical-align: top;\n",
       "    }\n",
       "\n",
       "    .dataframe thead th {\n",
       "        text-align: right;\n",
       "    }\n",
       "</style>\n",
       "<table border=\"1\" class=\"dataframe\">\n",
       "  <thead>\n",
       "    <tr style=\"text-align: right;\">\n",
       "      <th></th>\n",
       "      <th>fecha</th>\n",
       "      <th>indice_fecha</th>\n",
       "      <th>cielo</th>\n",
       "      <th>indice_estado_cielo</th>\n",
       "      <th>temp._(°c)</th>\n",
       "      <th>sen._térmica_(°c)</th>\n",
       "      <th>racha_máx._(km/h)</th>\n",
       "      <th>precipitación_(mm)</th>\n",
       "      <th>nieve_(mm)</th>\n",
       "      <th>humedad_relativa_(%)</th>\n",
       "      <th>prob._precip.__(%)</th>\n",
       "      <th>prob._de_nieve_(%)</th>\n",
       "      <th>prob._de_tormenta_(%)</th>\n",
       "      <th>avisos</th>\n",
       "      <th>dirección_viento</th>\n",
       "      <th>velocidad_del_viento</th>\n",
       "      <th>localizacion</th>\n",
       "      <th>indice_municipio</th>\n",
       "    </tr>\n",
       "  </thead>\n",
       "  <tbody>\n",
       "    <tr>\n",
       "      <th>1556</th>\n",
       "      <td>2024-08-30 02:00:00</td>\n",
       "      <td>15</td>\n",
       "      <td>Nuboso</td>\n",
       "      <td>4</td>\n",
       "      <td>18</td>\n",
       "      <td>18</td>\n",
       "      <td>22.0</td>\n",
       "      <td>0.0</td>\n",
       "      <td>0</td>\n",
       "      <td>98</td>\n",
       "      <td>5</td>\n",
       "      <td>0</td>\n",
       "      <td>5</td>\n",
       "      <td>Sin riesgo</td>\n",
       "      <td>NE</td>\n",
       "      <td>15</td>\n",
       "      <td>casarrubuelos</td>\n",
       "      <td>35</td>\n",
       "    </tr>\n",
       "  </tbody>\n",
       "</table>\n",
       "</div>"
      ],
      "text/plain": [
       "                    fecha  indice_fecha   cielo  indice_estado_cielo  \\\n",
       "1556  2024-08-30 02:00:00            15  Nuboso                    4   \n",
       "\n",
       "      temp._(°c)  sen._térmica_(°c)  racha_máx._(km/h)  precipitación_(mm)  \\\n",
       "1556          18                 18               22.0                 0.0   \n",
       "\n",
       "      nieve_(mm)  humedad_relativa_(%) prob._precip.__(%)  prob._de_nieve_(%)  \\\n",
       "1556           0                    98                  5                   0   \n",
       "\n",
       "      prob._de_tormenta_(%)      avisos dirección_viento  \\\n",
       "1556                      5  Sin riesgo               NE   \n",
       "\n",
       "      velocidad_del_viento   localizacion  indice_municipio  \n",
       "1556                    15  casarrubuelos                35  "
      ]
     },
     "execution_count": 49,
     "metadata": {},
     "output_type": "execute_result"
    }
   ],
   "source": [
    "df_aemet3.sample()"
   ]
  },
  {
   "cell_type": "code",
   "execution_count": 50,
   "metadata": {},
   "outputs": [],
   "source": [
    "df_aemet3 = df_aemet3.drop(columns=[\"fecha\",\"cielo\",\"avisos\",\"localizacion\",\"prob._precip.__(%)\"])"
   ]
  },
  {
   "cell_type": "code",
   "execution_count": 51,
   "metadata": {},
   "outputs": [],
   "source": [
    "df_aemet3.to_csv(\"datos/output/tabla_aemet.csv\")"
   ]
  },
  {
   "cell_type": "markdown",
   "metadata": {},
   "source": [
    "# Lugares\n",
    "- Lugares\n",
    "    - id_lugar PK\n",
    "    - id_categoría (FK categorías)\n",
    "    - id_municipio (FK municipio)\n",
    "    - id_tiempo (FK tiempo)\n",
    "    - nombre\n",
    "    - dirección\n",
    "    - distancia (al centro del municipio)"
   ]
  }
 ],
 "metadata": {
  "kernelspec": {
   "display_name": "Python 3",
   "language": "python",
   "name": "python3"
  },
  "language_info": {
   "codemirror_mode": {
    "name": "ipython",
    "version": 3
   },
   "file_extension": ".py",
   "mimetype": "text/x-python",
   "name": "python",
   "nbconvert_exporter": "python",
   "pygments_lexer": "ipython3",
   "version": "3.11.9"
  }
 },
 "nbformat": 4,
 "nbformat_minor": 2
}
