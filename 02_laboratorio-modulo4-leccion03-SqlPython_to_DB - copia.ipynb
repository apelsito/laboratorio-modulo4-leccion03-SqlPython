{
 "cells": [
  {
   "cell_type": "markdown",
   "metadata": {},
   "source": [
    "# SQL Python\n",
    "\n",
    "Tenemos 3 CSV, debemos crear una base de datos en Dbeaver y usando python ingresar los datos y después realizarnos 5 preguntas al respecto que podamos sacar con consultas que lleven JOIN, GROUP BY o similar\n",
    "\n",
    "También podemos practicar subsconsultas"
   ]
  },
  {
   "cell_type": "code",
   "execution_count": 48,
   "metadata": {},
   "outputs": [],
   "source": [
    "# importamos las librerías con las que vamos a trabajar\n",
    "\n",
    "# Trabajar con bases de datos y python\n",
    "# -----------------------------------------------------------------------\n",
    "import psycopg2\n",
    "from psycopg2 import OperationalError, errorcodes, errors\n",
    "\n",
    "\n",
    "# Trabajar con DataFrames\n",
    "# -----------------------------------------------------------------------\n",
    "import pandas as pd\n",
    "\n",
    "from geopy.geocoders import Nominatim\n",
    "import dotenv    \n",
    "import os\n",
    "\n",
    "from datetime import datetime"
   ]
  },
  {
   "cell_type": "markdown",
   "metadata": {},
   "source": [
    "Primero voy a cargar los CSV con objetivo de ver que tablas pueda sacar"
   ]
  },
  {
   "cell_type": "code",
   "execution_count": 2,
   "metadata": {},
   "outputs": [],
   "source": [
    "df_municipios = pd.read_csv(\"datos/output/fixed_municipios.csv\",index_col=\"Unnamed: 0\")\n",
    "df_categorias = pd.read_csv(\"datos/output/categorias.csv\",index_col=\"Unnamed: 0\")\n",
    "df_estado_cielo = pd.read_csv(\"datos/output/estado_cielo.csv\",index_col=\"Unnamed: 0\")\n",
    "df_fechas = pd.read_csv(\"datos/output/fechas.csv\",index_col=\"Unnamed: 0\")\n",
    "df_tiempo = pd.read_csv(\"datos/output/tabla_aemet.csv\",index_col=\"Unnamed: 0\")\n",
    "df_lugares = pd.read_csv(\"datos/output/lugares.csv\",index_col=\"Unnamed: 0\")"
   ]
  },
  {
   "cell_type": "markdown",
   "metadata": {},
   "source": [
    "# Municipios\n",
    "- Municipios\n",
    "    - id_municipio PK\n",
    "    - nombre\n",
    "    - latitud\n",
    "    - longitud\n"
   ]
  },
  {
   "cell_type": "code",
   "execution_count": 3,
   "metadata": {},
   "outputs": [
    {
     "data": {
      "text/html": [
       "<div>\n",
       "<style scoped>\n",
       "    .dataframe tbody tr th:only-of-type {\n",
       "        vertical-align: middle;\n",
       "    }\n",
       "\n",
       "    .dataframe tbody tr th {\n",
       "        vertical-align: top;\n",
       "    }\n",
       "\n",
       "    .dataframe thead th {\n",
       "        text-align: right;\n",
       "    }\n",
       "</style>\n",
       "<table border=\"1\" class=\"dataframe\">\n",
       "  <thead>\n",
       "    <tr style=\"text-align: right;\">\n",
       "      <th></th>\n",
       "      <th>municipio sucio</th>\n",
       "      <th>latitud</th>\n",
       "      <th>longitud</th>\n",
       "      <th>nombre municipio</th>\n",
       "    </tr>\n",
       "  </thead>\n",
       "  <tbody>\n",
       "    <tr>\n",
       "      <th>10</th>\n",
       "      <td>ambite</td>\n",
       "      <td>40.328972</td>\n",
       "      <td>-3.181211</td>\n",
       "      <td>Ambite</td>\n",
       "    </tr>\n",
       "  </tbody>\n",
       "</table>\n",
       "</div>"
      ],
      "text/plain": [
       "   municipio sucio    latitud  longitud nombre municipio\n",
       "10          ambite  40.328972 -3.181211           Ambite"
      ]
     },
     "execution_count": 3,
     "metadata": {},
     "output_type": "execute_result"
    }
   ],
   "source": [
    "df_municipios.sample()"
   ]
  },
  {
   "cell_type": "code",
   "execution_count": 4,
   "metadata": {},
   "outputs": [],
   "source": [
    "df_municipios = df_municipios.drop(columns=[\"municipio sucio\"])"
   ]
  },
  {
   "cell_type": "code",
   "execution_count": 5,
   "metadata": {},
   "outputs": [
    {
     "data": {
      "text/html": [
       "<div>\n",
       "<style scoped>\n",
       "    .dataframe tbody tr th:only-of-type {\n",
       "        vertical-align: middle;\n",
       "    }\n",
       "\n",
       "    .dataframe tbody tr th {\n",
       "        vertical-align: top;\n",
       "    }\n",
       "\n",
       "    .dataframe thead th {\n",
       "        text-align: right;\n",
       "    }\n",
       "</style>\n",
       "<table border=\"1\" class=\"dataframe\">\n",
       "  <thead>\n",
       "    <tr style=\"text-align: right;\">\n",
       "      <th></th>\n",
       "      <th>nombre municipio</th>\n",
       "      <th>latitud</th>\n",
       "      <th>longitud</th>\n",
       "    </tr>\n",
       "  </thead>\n",
       "  <tbody>\n",
       "    <tr>\n",
       "      <th>119</th>\n",
       "      <td>Robregordo</td>\n",
       "      <td>41.106452</td>\n",
       "      <td>-3.593747</td>\n",
       "    </tr>\n",
       "  </tbody>\n",
       "</table>\n",
       "</div>"
      ],
      "text/plain": [
       "    nombre municipio    latitud  longitud\n",
       "119       Robregordo  41.106452 -3.593747"
      ]
     },
     "execution_count": 5,
     "metadata": {},
     "output_type": "execute_result"
    }
   ],
   "source": [
    "df_municipios = df_municipios[[\"nombre municipio\",\"latitud\",\"longitud\"]]\n",
    "df_municipios.sample()"
   ]
  },
  {
   "cell_type": "code",
   "execution_count": 6,
   "metadata": {},
   "outputs": [],
   "source": [
    "df_municipios.to_csv(\"datos/output/municipios_table.csv\")"
   ]
  },
  {
   "cell_type": "code",
   "execution_count": 7,
   "metadata": {},
   "outputs": [],
   "source": [
    "df_municipios = pd.read_csv(\"datos/output/municipios_table.csv\",index_col=\"Unnamed: 0\")"
   ]
  },
  {
   "cell_type": "code",
   "execution_count": 8,
   "metadata": {},
   "outputs": [
    {
     "data": {
      "text/html": [
       "<div>\n",
       "<style scoped>\n",
       "    .dataframe tbody tr th:only-of-type {\n",
       "        vertical-align: middle;\n",
       "    }\n",
       "\n",
       "    .dataframe tbody tr th {\n",
       "        vertical-align: top;\n",
       "    }\n",
       "\n",
       "    .dataframe thead th {\n",
       "        text-align: right;\n",
       "    }\n",
       "</style>\n",
       "<table border=\"1\" class=\"dataframe\">\n",
       "  <thead>\n",
       "    <tr style=\"text-align: right;\">\n",
       "      <th></th>\n",
       "      <th>nombre municipio</th>\n",
       "      <th>latitud</th>\n",
       "      <th>longitud</th>\n",
       "    </tr>\n",
       "  </thead>\n",
       "  <tbody>\n",
       "    <tr>\n",
       "      <th>39</th>\n",
       "      <td>Chinchón</td>\n",
       "      <td>40.140829</td>\n",
       "      <td>-3.423147</td>\n",
       "    </tr>\n",
       "  </tbody>\n",
       "</table>\n",
       "</div>"
      ],
      "text/plain": [
       "   nombre municipio    latitud  longitud\n",
       "39         Chinchón  40.140829 -3.423147"
      ]
     },
     "execution_count": 8,
     "metadata": {},
     "output_type": "execute_result"
    }
   ],
   "source": [
    "df_municipios.sample()"
   ]
  },
  {
   "cell_type": "code",
   "execution_count": 26,
   "metadata": {},
   "outputs": [],
   "source": [
    "key = os.getenv(\"sql\")\n",
    "try:\n",
    "    conexion = psycopg2.connect(\n",
    "        database = \"laboratorio3\",\n",
    "        user = \"postgres\",\n",
    "        password = key,#Esto en un .env\n",
    "        host = \"localhost\",\n",
    "        port = \"5432\" )\n",
    "except OperationalError as e:\n",
    "    if e.pgcode == errorcodes.INVALID_PASSWORD:\n",
    "        print(\"La contraseña es errónea\")\n",
    "    elif e.pgcode == errorcodes.CONNECTION_EXCEPTION:\n",
    "        print(\"Error de conexión\")\n",
    "    else:\n",
    "        print(f\"Ocurrió el error {e}\")\n"
   ]
  },
  {
   "cell_type": "code",
   "execution_count": 27,
   "metadata": {},
   "outputs": [],
   "source": [
    "cursor = conexion.cursor()\n",
    "cursor.execute('''CREATE TABLE IF NOT EXISTS \"municipios\"(\n",
    "                    id_municipio SERIAL PRIMARY KEY,\n",
    "                    nombre VARCHAR(100),\n",
    "                    latitud NUMERIC(8,6),\n",
    "                    longitud NUMERIC(8,6));''')\n",
    "conexion.commit()"
   ]
  },
  {
   "cell_type": "code",
   "execution_count": 28,
   "metadata": {},
   "outputs": [
    {
     "data": {
      "text/plain": [
       "[('La Acebeda', 41.0869583, -3.624399),\n",
       " ('Ajalvir', 40.5342302, -3.4807818),\n",
       " ('Alameda del Valle', 40.9177178, -3.8438216)]"
      ]
     },
     "execution_count": 28,
     "metadata": {},
     "output_type": "execute_result"
    }
   ],
   "source": [
    "tuplita_municipios = [tuple(v) for v in df_municipios.values]\n",
    "tuplita_municipios[:3]"
   ]
  },
  {
   "cell_type": "markdown",
   "metadata": {},
   "source": [
    "### Insertar Valores\n",
    "Lo comento por mi seguridad\n",
    "```python\n",
    "    query_insertar = \"\"\" INSERT INTO municipios(nombre,latitud,     longitud) VALUES (%s,%s,%s)\"\"\"\n",
    "    cursor.executemany(query_insertar,tuplita_municipios)\n",
    "    conexion.commit()\n",
    "```"
   ]
  },
  {
   "cell_type": "code",
   "execution_count": 19,
   "metadata": {},
   "outputs": [],
   "source": [
    "cursor.close()\n",
    "conexion.close()"
   ]
  },
  {
   "cell_type": "markdown",
   "metadata": {},
   "source": [
    "# Categorías\n",
    "- Categorías\n",
    "    - id_categoria PK\n",
    "    - tipo\n"
   ]
  },
  {
   "cell_type": "code",
   "execution_count": 13,
   "metadata": {},
   "outputs": [
    {
     "data": {
      "text/html": [
       "<div>\n",
       "<style scoped>\n",
       "    .dataframe tbody tr th:only-of-type {\n",
       "        vertical-align: middle;\n",
       "    }\n",
       "\n",
       "    .dataframe tbody tr th {\n",
       "        vertical-align: top;\n",
       "    }\n",
       "\n",
       "    .dataframe thead th {\n",
       "        text-align: right;\n",
       "    }\n",
       "</style>\n",
       "<table border=\"1\" class=\"dataframe\">\n",
       "  <thead>\n",
       "    <tr style=\"text-align: right;\">\n",
       "      <th></th>\n",
       "      <th>categoria</th>\n",
       "    </tr>\n",
       "  </thead>\n",
       "  <tbody>\n",
       "    <tr>\n",
       "      <th>6</th>\n",
       "      <td>Fountain</td>\n",
       "    </tr>\n",
       "  </tbody>\n",
       "</table>\n",
       "</div>"
      ],
      "text/plain": [
       "  categoria\n",
       "6  Fountain"
      ]
     },
     "execution_count": 13,
     "metadata": {},
     "output_type": "execute_result"
    }
   ],
   "source": [
    "df_categorias.sample()"
   ]
  },
  {
   "cell_type": "code",
   "execution_count": 20,
   "metadata": {},
   "outputs": [],
   "source": [
    "key = os.getenv(\"sql\")\n",
    "try:\n",
    "    conexion = psycopg2.connect(\n",
    "        database = \"laboratorio3\",\n",
    "        user = \"postgres\",\n",
    "        password = key,#Esto en un .env\n",
    "        host = \"localhost\",\n",
    "        port = \"5432\" )\n",
    "except OperationalError as e:\n",
    "    if e.pgcode == errorcodes.INVALID_PASSWORD:\n",
    "        print(\"La contraseña es errónea\")\n",
    "    elif e.pgcode == errorcodes.CONNECTION_EXCEPTION:\n",
    "        print(\"Error de conexión\")\n",
    "    else:\n",
    "        print(f\"Ocurrió el error {e}\")"
   ]
  },
  {
   "cell_type": "code",
   "execution_count": 21,
   "metadata": {},
   "outputs": [],
   "source": [
    "cursor = conexion.cursor()\n",
    "cursor.execute('''CREATE TABLE IF NOT EXISTS \"categorias\"(\n",
    "                    id_categoria SERIAL PRIMARY KEY,\n",
    "                    nombre VARCHAR(100));''')\n",
    "conexion.commit()"
   ]
  },
  {
   "cell_type": "code",
   "execution_count": 22,
   "metadata": {},
   "outputs": [
    {
     "data": {
      "text/plain": [
       "[('Park',), ('Monument',), ('TV Station',)]"
      ]
     },
     "execution_count": 22,
     "metadata": {},
     "output_type": "execute_result"
    }
   ],
   "source": [
    "tuplita_categorias = [tuple(v) for v in df_categorias.values]\n",
    "tuplita_categorias[:3]"
   ]
  },
  {
   "cell_type": "markdown",
   "metadata": {},
   "source": [
    "```python\n",
    "query_insertar = \"\"\" INSERT INTO categorias(nombre) VALUES (%s)\"\"\"\n",
    "cursor.executemany(query_insertar,tuplita_categorias)\n",
    "conexion.commit()\n",
    "```"
   ]
  },
  {
   "cell_type": "code",
   "execution_count": 30,
   "metadata": {},
   "outputs": [],
   "source": [
    "cursor.close()\n",
    "conexion.close()"
   ]
  },
  {
   "cell_type": "markdown",
   "metadata": {},
   "source": [
    "# Estado Cielo\n",
    "- Estado cielo\n",
    "    - id_estado PK\n",
    "    - estado\n"
   ]
  },
  {
   "cell_type": "code",
   "execution_count": 14,
   "metadata": {},
   "outputs": [
    {
     "data": {
      "text/html": [
       "<div>\n",
       "<style scoped>\n",
       "    .dataframe tbody tr th:only-of-type {\n",
       "        vertical-align: middle;\n",
       "    }\n",
       "\n",
       "    .dataframe tbody tr th {\n",
       "        vertical-align: top;\n",
       "    }\n",
       "\n",
       "    .dataframe thead th {\n",
       "        text-align: right;\n",
       "    }\n",
       "</style>\n",
       "<table border=\"1\" class=\"dataframe\">\n",
       "  <thead>\n",
       "    <tr style=\"text-align: right;\">\n",
       "      <th></th>\n",
       "      <th>estado_cielo</th>\n",
       "    </tr>\n",
       "  </thead>\n",
       "  <tbody>\n",
       "    <tr>\n",
       "      <th>9</th>\n",
       "      <td>Cubierto con lluvia</td>\n",
       "    </tr>\n",
       "  </tbody>\n",
       "</table>\n",
       "</div>"
      ],
      "text/plain": [
       "          estado_cielo\n",
       "9  Cubierto con lluvia"
      ]
     },
     "execution_count": 14,
     "metadata": {},
     "output_type": "execute_result"
    }
   ],
   "source": [
    "df_estado_cielo.sample()"
   ]
  },
  {
   "cell_type": "code",
   "execution_count": 33,
   "metadata": {},
   "outputs": [],
   "source": [
    "key = os.getenv(\"sql\")\n",
    "try:\n",
    "    conexion = psycopg2.connect(\n",
    "        database = \"laboratorio3\",\n",
    "        user = \"postgres\",\n",
    "        password = key,#Esto en un .env\n",
    "        host = \"localhost\",\n",
    "        port = \"5432\" )\n",
    "except OperationalError as e:\n",
    "    if e.pgcode == errorcodes.INVALID_PASSWORD:\n",
    "        print(\"La contraseña es errónea\")\n",
    "    elif e.pgcode == errorcodes.CONNECTION_EXCEPTION:\n",
    "        print(\"Error de conexión\")\n",
    "    else:\n",
    "        print(f\"Ocurrió el error {e}\")"
   ]
  },
  {
   "cell_type": "code",
   "execution_count": 34,
   "metadata": {},
   "outputs": [],
   "source": [
    "cursor = conexion.cursor()\n",
    "cursor.execute('''CREATE TABLE IF NOT EXISTS \"estado_cielo\"(\n",
    "                    id_estado_cielo SERIAL PRIMARY KEY,\n",
    "                    nombre VARCHAR(100));''')\n",
    "conexion.commit()"
   ]
  },
  {
   "cell_type": "code",
   "execution_count": 35,
   "metadata": {},
   "outputs": [
    {
     "data": {
      "text/plain": [
       "[('Nubes altas',), ('Muy nuboso',), ('Cubierto con tormenta y lluvia escasa',)]"
      ]
     },
     "execution_count": 35,
     "metadata": {},
     "output_type": "execute_result"
    }
   ],
   "source": [
    "tuplita_cielo = [tuple(v) for v in df_estado_cielo.values]\n",
    "tuplita_cielo[:3]"
   ]
  },
  {
   "cell_type": "markdown",
   "metadata": {},
   "source": [
    "```python\n",
    "query_insertar = \"\"\" INSERT INTO estado_cielo(nombre) VALUES (%s)\"\"\"\n",
    "cursor.executemany(query_insertar,tuplita_cielo)\n",
    "conexion.commit()"
   ]
  },
  {
   "cell_type": "code",
   "execution_count": 37,
   "metadata": {},
   "outputs": [],
   "source": [
    "cursor.close()\n",
    "conexion.close()"
   ]
  },
  {
   "cell_type": "markdown",
   "metadata": {},
   "source": [
    "# Fecha\n",
    "- Fecha\n",
    "    - id_fecha PK\n",
    "    - Fecha\n"
   ]
  },
  {
   "cell_type": "code",
   "execution_count": 15,
   "metadata": {},
   "outputs": [
    {
     "data": {
      "text/html": [
       "<div>\n",
       "<style scoped>\n",
       "    .dataframe tbody tr th:only-of-type {\n",
       "        vertical-align: middle;\n",
       "    }\n",
       "\n",
       "    .dataframe tbody tr th {\n",
       "        vertical-align: top;\n",
       "    }\n",
       "\n",
       "    .dataframe thead th {\n",
       "        text-align: right;\n",
       "    }\n",
       "</style>\n",
       "<table border=\"1\" class=\"dataframe\">\n",
       "  <thead>\n",
       "    <tr style=\"text-align: right;\">\n",
       "      <th></th>\n",
       "      <th>fecha</th>\n",
       "    </tr>\n",
       "  </thead>\n",
       "  <tbody>\n",
       "    <tr>\n",
       "      <th>31</th>\n",
       "      <td>2024-08-30 19:00:00</td>\n",
       "    </tr>\n",
       "  </tbody>\n",
       "</table>\n",
       "</div>"
      ],
      "text/plain": [
       "                 fecha\n",
       "31 2024-08-30 19:00:00"
      ]
     },
     "execution_count": 15,
     "metadata": {},
     "output_type": "execute_result"
    }
   ],
   "source": [
    "df_fechas[\"fecha\"] = pd.to_datetime(df_fechas[\"fecha\"])\n",
    "df_fechas.sample()"
   ]
  },
  {
   "cell_type": "code",
   "execution_count": 66,
   "metadata": {},
   "outputs": [],
   "source": [
    "key = os.getenv(\"sql\")\n",
    "try:\n",
    "    conexion = psycopg2.connect(\n",
    "        database = \"laboratorio3\",\n",
    "        user = \"postgres\",\n",
    "        password = key,#Esto en un .env\n",
    "        host = \"localhost\",\n",
    "        port = \"5432\" )\n",
    "except OperationalError as e:\n",
    "    if e.pgcode == errorcodes.INVALID_PASSWORD:\n",
    "        print(\"La contraseña es errónea\")\n",
    "    elif e.pgcode == errorcodes.CONNECTION_EXCEPTION:\n",
    "        print(\"Error de conexión\")\n",
    "    else:\n",
    "        print(f\"Ocurrió el error {e}\")"
   ]
  },
  {
   "cell_type": "code",
   "execution_count": 67,
   "metadata": {},
   "outputs": [],
   "source": [
    "cursor = conexion.cursor()\n",
    "cursor.execute('''CREATE TABLE IF NOT EXISTS \"fechas\"(\n",
    "                    id_fecha SERIAL PRIMARY KEY,\n",
    "                    fecha TIMESTAMP);''')\n",
    "conexion.commit()"
   ]
  },
  {
   "cell_type": "code",
   "execution_count": 68,
   "metadata": {},
   "outputs": [],
   "source": [
    "from datetime import datetime\n",
    "tuplita_fechas = [tuple(v) for v in df_fechas.values]   \n"
   ]
  },
  {
   "cell_type": "code",
   "execution_count": 69,
   "metadata": {},
   "outputs": [],
   "source": [
    "fechas_convertidas = [t[0].astype('M8[ms]').astype(datetime) for t in tuplita_fechas]"
   ]
  },
  {
   "cell_type": "code",
   "execution_count": 70,
   "metadata": {},
   "outputs": [],
   "source": [
    "tuplita_fechas = [(fecha,) for fecha in fechas_convertidas]"
   ]
  },
  {
   "cell_type": "code",
   "execution_count": 71,
   "metadata": {},
   "outputs": [
    {
     "data": {
      "text/plain": [
       "[(datetime.datetime(2024, 8, 29, 12, 0),),\n",
       " (datetime.datetime(2024, 8, 29, 13, 0),),\n",
       " (datetime.datetime(2024, 8, 29, 14, 0),)]"
      ]
     },
     "execution_count": 71,
     "metadata": {},
     "output_type": "execute_result"
    }
   ],
   "source": [
    "tuplita_fechas[:3]"
   ]
  },
  {
   "cell_type": "markdown",
   "metadata": {},
   "source": [
    "```py\n",
    "query_insertar = \"\"\" INSERT INTO fechas(fecha) VALUES (%s)\"\"\"\n",
    "cursor.executemany(query_insertar,tuplita_fechas)\n",
    "conexion.commit()"
   ]
  },
  {
   "cell_type": "code",
   "execution_count": 74,
   "metadata": {},
   "outputs": [],
   "source": [
    "cursor.close()\n",
    "conexion.close()"
   ]
  },
  {
   "cell_type": "markdown",
   "metadata": {},
   "source": [
    "# Tiempo\n",
    "\n",
    "- Tiempo\n",
    "    - id_tiempo PK\n",
    "    - id_estado_cielo (FK estado cielo)\n",
    "    - id_municipio (FK municipio)\n",
    "    - id_fecha (FK fecha)\n",
    "    - temperatura\n",
    "    - sensacion_temp\n",
    "    - racha_max\n",
    "    - precipitación\n",
    "    - nieve\n",
    "    - humedad\n",
    "    - probabilidad precipitación\n",
    "    - probabilidad nieve\n",
    "    - probabilidad tormenta\n",
    "    - Dirección viento"
   ]
  },
  {
   "cell_type": "code",
   "execution_count": 16,
   "metadata": {},
   "outputs": [
    {
     "data": {
      "text/html": [
       "<div>\n",
       "<style scoped>\n",
       "    .dataframe tbody tr th:only-of-type {\n",
       "        vertical-align: middle;\n",
       "    }\n",
       "\n",
       "    .dataframe tbody tr th {\n",
       "        vertical-align: top;\n",
       "    }\n",
       "\n",
       "    .dataframe thead th {\n",
       "        text-align: right;\n",
       "    }\n",
       "</style>\n",
       "<table border=\"1\" class=\"dataframe\">\n",
       "  <thead>\n",
       "    <tr style=\"text-align: right;\">\n",
       "      <th></th>\n",
       "      <th>indice_fecha</th>\n",
       "      <th>indice_estado_cielo</th>\n",
       "      <th>temp._(°c)</th>\n",
       "      <th>sen._térmica_(°c)</th>\n",
       "      <th>racha_máx._(km/h)</th>\n",
       "      <th>precipitación_(mm)</th>\n",
       "      <th>nieve_(mm)</th>\n",
       "      <th>humedad_relativa_(%)</th>\n",
       "      <th>prob._de_nieve_(%)</th>\n",
       "      <th>prob._de_tormenta_(%)</th>\n",
       "      <th>dirección_viento</th>\n",
       "      <th>velocidad_del_viento</th>\n",
       "      <th>indice_municipio</th>\n",
       "    </tr>\n",
       "  </thead>\n",
       "  <tbody>\n",
       "    <tr>\n",
       "      <th>7724</th>\n",
       "      <td>16</td>\n",
       "      <td>6</td>\n",
       "      <td>17</td>\n",
       "      <td>17</td>\n",
       "      <td>30.0</td>\n",
       "      <td>0.0</td>\n",
       "      <td>0</td>\n",
       "      <td>100</td>\n",
       "      <td>0</td>\n",
       "      <td>0</td>\n",
       "      <td>SE</td>\n",
       "      <td>21</td>\n",
       "      <td>173</td>\n",
       "    </tr>\n",
       "  </tbody>\n",
       "</table>\n",
       "</div>"
      ],
      "text/plain": [
       "      indice_fecha  indice_estado_cielo  temp._(°c)  sen._térmica_(°c)  \\\n",
       "7724            16                    6          17                 17   \n",
       "\n",
       "      racha_máx._(km/h)  precipitación_(mm)  nieve_(mm)  humedad_relativa_(%)  \\\n",
       "7724               30.0                 0.0           0                   100   \n",
       "\n",
       "      prob._de_nieve_(%)  prob._de_tormenta_(%) dirección_viento  \\\n",
       "7724                   0                      0               SE   \n",
       "\n",
       "      velocidad_del_viento  indice_municipio  \n",
       "7724                    21               173  "
      ]
     },
     "execution_count": 16,
     "metadata": {},
     "output_type": "execute_result"
    }
   ],
   "source": [
    "df_tiempo.sample()"
   ]
  },
  {
   "cell_type": "code",
   "execution_count": 86,
   "metadata": {},
   "outputs": [],
   "source": [
    "key = os.getenv(\"sql\")\n",
    "try:\n",
    "    conexion = psycopg2.connect(\n",
    "        database = \"laboratorio3\",\n",
    "        user = \"postgres\",\n",
    "        password = key,#Esto en un .env\n",
    "        host = \"localhost\",\n",
    "        port = \"5432\" )\n",
    "except OperationalError as e:\n",
    "    if e.pgcode == errorcodes.INVALID_PASSWORD:\n",
    "        print(\"La contraseña es errónea\")\n",
    "    elif e.pgcode == errorcodes.CONNECTION_EXCEPTION:\n",
    "        print(\"Error de conexión\")\n",
    "    else:\n",
    "        print(f\"Ocurrió el error {e}\")"
   ]
  },
  {
   "cell_type": "code",
   "execution_count": 87,
   "metadata": {},
   "outputs": [],
   "source": [
    "cursor = conexion.cursor()\n",
    "cursor.execute('''CREATE TABLE IF NOT EXISTS \"tiempo\"(\n",
    "                    id_tiempo SERIAL PRIMARY KEY,\n",
    "                    id_fecha INT NOT NULL,\n",
    "                    id_estado_cielo INT NOT NULL,\n",
    "                    temperatura INT NOT NULL,\n",
    "                    sensacion_termica INT NOT NULL,\n",
    "                    racha_max NUMERIC NOT NULL,\n",
    "                    precipitacion NUMERIC NOT NULL,\n",
    "                    nieve INT NOT NULL,\n",
    "                    humedad_relativa INT NOT NULL,\n",
    "                    probabilidad_de_nieve INT NOT NULL,\n",
    "                    probabilidiento VARCHAR(3) NOT NULL,\n",
    "                    velocidad_del_viento INT NOT NULL,\n",
    "                    id_municipio INT NOT NULL,\n",
    "                    FOREIGN KEY (id_estado_cielo) REFERENCES estado_cielo (id_estado_cielo) ON UPDATE CASCADE ON DELETE CASCADE,\n",
    "                    FOREIGN KEY (id_municipio) REFERENCES municipios (id_municipio) ON UPDATE CASCADE ON DELETE CASCADE,\n",
    "                    FOREIGN KEY (id_fecha) REFERENCES fechas (id_fecha)ad_de_tormenta INT NOT NULL,\n",
    "                    direccion_v ON UPDATE CASCADE ON DELETE CASCADE);''')\n",
    "conexion.commit()"
   ]
  },
  {
   "cell_type": "code",
   "execution_count": null,
   "metadata": {},
   "outputs": [],
   "source": []
  },
  {
   "cell_type": "code",
   "execution_count": 88,
   "metadata": {},
   "outputs": [],
   "source": [
    "tuplita_tiempo = [tuple(v) for v in df_tiempo.values]"
   ]
  },
  {
   "cell_type": "code",
   "execution_count": 89,
   "metadata": {},
   "outputs": [
    {
     "data": {
      "text/plain": [
       "[(1, 1, 21, 21, 25.0, 0.0, 0, 69, 0, 75, 'S', 7, 1),\n",
       " (2, 1, 24, 24, 29.0, 0.0, 0, 57, 0, 75, 'SE', 12, 1),\n",
       " (3, 2, 23, 23, 33.0, 0.0, 0, 59, 0, 80, 'S', 14, 1)]"
      ]
     },
     "execution_count": 89,
     "metadata": {},
     "output_type": "execute_result"
    }
   ],
   "source": [
    "tuplita_tiempo[:3]"
   ]
  },
  {
   "cell_type": "markdown",
   "metadata": {},
   "source": [
    "```py\n",
    "query_insertar = \"\"\" INSERT INTO tiempo(id_fecha,id_estado_cielo,temperatura,sensacion_termica,racha_max,precipitacion,nieve,humedad_relativa,probabilidad_de_nieve,probabilidad_de_tormenta,direccion_viento,velocidad_del_viento,id_municipio) \n",
    "VALUES (%s,%s,%s,%s,%s,%s,%s,%s,%s,%s,%s,%s,%s)\"\"\"\n",
    "cursor.executemany(query_insertar,tuplita_tiempo)\n",
    "conexion.commit()"
   ]
  },
  {
   "cell_type": "code",
   "execution_count": 92,
   "metadata": {},
   "outputs": [],
   "source": [
    "cursor.close()\n",
    "conexion.close()"
   ]
  },
  {
   "cell_type": "markdown",
   "metadata": {},
   "source": [
    "# Lugares\n",
    "- Lugares\n",
    "    - id_lugar PK\n",
    "    - id_categoría (FK categorías)\n",
    "    - id_municipio (FK municipio)\n",
    "    - id_tiempo (FK tiempo)\n",
    "    - nombre\n",
    "    - dirección\n",
    "    - distancia (al centro del municipio)"
   ]
  },
  {
   "cell_type": "code",
   "execution_count": 17,
   "metadata": {},
   "outputs": [
    {
     "data": {
      "text/html": [
       "<div>\n",
       "<style scoped>\n",
       "    .dataframe tbody tr th:only-of-type {\n",
       "        vertical-align: middle;\n",
       "    }\n",
       "\n",
       "    .dataframe tbody tr th {\n",
       "        vertical-align: top;\n",
       "    }\n",
       "\n",
       "    .dataframe thead th {\n",
       "        text-align: right;\n",
       "    }\n",
       "</style>\n",
       "<table border=\"1\" class=\"dataframe\">\n",
       "  <thead>\n",
       "    <tr style=\"text-align: right;\">\n",
       "      <th></th>\n",
       "      <th>indice_municipio</th>\n",
       "      <th>indice_categoria</th>\n",
       "      <th>name</th>\n",
       "      <th>address</th>\n",
       "      <th>distance</th>\n",
       "    </tr>\n",
       "  </thead>\n",
       "  <tbody>\n",
       "    <tr>\n",
       "      <th>342</th>\n",
       "      <td>67</td>\n",
       "      <td>1</td>\n",
       "      <td>Parque del Ayuntamiento Guadarrama</td>\n",
       "      <td>28440 Guadarrama Comunidad de Madrid</td>\n",
       "      <td>25.0</td>\n",
       "    </tr>\n",
       "  </tbody>\n",
       "</table>\n",
       "</div>"
      ],
      "text/plain": [
       "     indice_municipio  indice_categoria                                name  \\\n",
       "342                67                 1  Parque del Ayuntamiento Guadarrama   \n",
       "\n",
       "                                  address  distance  \n",
       "342  28440 Guadarrama Comunidad de Madrid      25.0  "
      ]
     },
     "execution_count": 17,
     "metadata": {},
     "output_type": "execute_result"
    }
   ],
   "source": [
    "df_lugares.sample()"
   ]
  },
  {
   "cell_type": "code",
   "execution_count": 100,
   "metadata": {},
   "outputs": [],
   "source": [
    "df_lugares[\"address\"] = df_lugares[\"address\"].fillna(\"N/A\")"
   ]
  },
  {
   "cell_type": "code",
   "execution_count": 101,
   "metadata": {},
   "outputs": [],
   "source": [
    "key = os.getenv(\"sql\")\n",
    "try:\n",
    "    conexion = psycopg2.connect(\n",
    "        database = \"laboratorio3\",\n",
    "        user = \"postgres\",\n",
    "        password = key,#Esto en un .env\n",
    "        host = \"localhost\",\n",
    "        port = \"5432\" )\n",
    "except OperationalError as e:\n",
    "    if e.pgcode == errorcodes.INVALID_PASSWORD:\n",
    "        print(\"La contraseña es errónea\")\n",
    "    elif e.pgcode == errorcodes.CONNECTION_EXCEPTION:\n",
    "        print(\"Error de conexión\")\n",
    "    else:\n",
    "        print(f\"Ocurrió el error {e}\")"
   ]
  },
  {
   "cell_type": "code",
   "execution_count": 102,
   "metadata": {},
   "outputs": [],
   "source": [
    "cursor = conexion.cursor()\n",
    "cursor.execute('''CREATE TABLE IF NOT EXISTS \"lugares\"(\n",
    "                    id_lugar SERIAL PRIMARY KEY,\n",
    "                    id_municipio INT NOT NULL,\n",
    "                    id_categoria INT NOT NULL,\n",
    "                    nombre VARCHAR(100) NOT NULL,\n",
    "                    direccion VARCHAR(1000) NOT NULL,\n",
    "                    distancia_al_centro NUMERIC NOT NULL,\n",
    "                    FOREIGN KEY (id_municipio) REFERENCES municipios (id_municipio) \n",
    "                    ON UPDATE CASCADE ON DELETE CASCADE,\n",
    "                    FOREIGN KEY (id_categoria) REFERENCES categorias (id_categoria) \n",
    "                    ON UPDATE CASCADE ON DELETE CASCADE);''')\n",
    "conexion.commit()"
   ]
  },
  {
   "cell_type": "code",
   "execution_count": 103,
   "metadata": {},
   "outputs": [
    {
     "data": {
      "text/plain": [
       "[(2,\n",
       "  1,\n",
       "  'Diverjungla',\n",
       "  'Calle Segovia, 20 (Pol. Ind. Donada), 28864 Ajalvir Comunidad de Madrid',\n",
       "  563.0),\n",
       " (2, 1, 'Parque Infantil', 'N/A', 1724.0),\n",
       " (2, 1, 'Chiquitin', 'Ajalvir Madrid', 333.0)]"
      ]
     },
     "execution_count": 103,
     "metadata": {},
     "output_type": "execute_result"
    }
   ],
   "source": [
    "tuplita_lugares = [tuple(v) for v in df_lugares.values]\n",
    "tuplita_lugares[:3]"
   ]
  },
  {
   "cell_type": "markdown",
   "metadata": {},
   "source": [
    "```py\n",
    "query_insertar = \"\"\" INSERT INTO lugares(id_municipio,id_categoria,nombre,direccion,distancia_al_centro) \n",
    "VALUES (%s,%s,%s,%s,%s)\"\"\"\n",
    "cursor.executemany(query_insertar,tuplita_lugares)\n",
    "conexion.commit()"
   ]
  },
  {
   "cell_type": "code",
   "execution_count": 106,
   "metadata": {},
   "outputs": [],
   "source": [
    "cursor.close()\n",
    "conexion.close()"
   ]
  }
 ],
 "metadata": {
  "kernelspec": {
   "display_name": "Python 3",
   "language": "python",
   "name": "python3"
  },
  "language_info": {
   "codemirror_mode": {
    "name": "ipython",
    "version": 3
   },
   "file_extension": ".py",
   "mimetype": "text/x-python",
   "name": "python",
   "nbconvert_exporter": "python",
   "pygments_lexer": "ipython3",
   "version": "3.11.9"
  }
 },
 "nbformat": 4,
 "nbformat_minor": 2
}
