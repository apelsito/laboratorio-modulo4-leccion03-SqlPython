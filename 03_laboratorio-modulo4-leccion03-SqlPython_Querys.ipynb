{
 "cells": [
  {
   "cell_type": "markdown",
   "metadata": {},
   "source": [
    "# SQL Python\n",
    "\n",
    "Tenemos 3 CSV, debemos crear una base de datos en Dbeaver y usando python ingresar los datos y después realizarnos 5 preguntas al respecto que podamos sacar con consultas que lleven JOIN, GROUP BY o similar\n",
    "\n",
    "También podemos practicar subsconsultas"
   ]
  },
  {
   "cell_type": "code",
   "execution_count": 1,
   "metadata": {},
   "outputs": [],
   "source": [
    "# importamos las librerías con las que vamos a trabajar\n",
    "\n",
    "# Trabajar con bases de datos y python\n",
    "# -----------------------------------------------------------------------\n",
    "import psycopg2\n",
    "from psycopg2 import OperationalError, errorcodes, errors\n",
    "\n",
    "\n",
    "# Trabajar con DataFrames\n",
    "# -----------------------------------------------------------------------\n",
    "import pandas as pd\n",
    "\n",
    "from geopy.geocoders import Nominatim\n",
    "import dotenv    \n",
    "import os\n",
    "\n",
    "from datetime import datetime"
   ]
  },
  {
   "cell_type": "markdown",
   "metadata": {},
   "source": [
    "Primero voy a cargar los CSV con objetivo de ver que tablas pueda sacar"
   ]
  },
  {
   "cell_type": "code",
   "execution_count": 86,
   "metadata": {},
   "outputs": [],
   "source": [
    "key = os.getenv(\"sql\")\n",
    "try:\n",
    "    conexion = psycopg2.connect(\n",
    "        database = \"laboratorio3\",\n",
    "        user = \"postgres\",\n",
    "        password = key,#Esto en un .env\n",
    "        host = \"localhost\",\n",
    "        port = \"5432\" )\n",
    "except OperationalError as e:\n",
    "    if e.pgcode == errorcodes.INVALID_PASSWORD:\n",
    "        print(\"La contraseña es errónea\")\n",
    "    elif e.pgcode == errorcodes.CONNECTION_EXCEPTION:\n",
    "        print(\"Error de conexión\")\n",
    "    else:\n",
    "        print(f\"Ocurrió el error {e}\")\n",
    "    \n",
    "cursor = conexion.cursor()"
   ]
  },
  {
   "cell_type": "code",
   "execution_count": null,
   "metadata": {},
   "outputs": [],
   "source": [
    "cursor.execute('SELECT * FROM \"Genre\";')\n",
    "pd.DataFrame(cursor.fetchall()).head()"
   ]
  },
  {
   "cell_type": "markdown",
   "metadata": {},
   "source": [
    "# Ahora 5 Preguntas para practicas subconsultas o inner joins"
   ]
  },
  {
   "cell_type": "markdown",
   "metadata": {},
   "source": [
    "### 1. ¿Cuál es el nombre de los lugares, el municipio al que pertenecen y la categoría asociada para cada lugar?"
   ]
  },
  {
   "cell_type": "code",
   "execution_count": null,
   "metadata": {},
   "outputs": [],
   "source": []
  },
  {
   "cell_type": "markdown",
   "metadata": {},
   "source": [
    "### 2.¿Qué lugares tuvieron un estado del cielo específico durante una fecha determinada?"
   ]
  },
  {
   "cell_type": "code",
   "execution_count": null,
   "metadata": {},
   "outputs": [],
   "source": []
  },
  {
   "cell_type": "markdown",
   "metadata": {},
   "source": [
    "### 3. ¿Cuáles fueron las condiciones del tiempo en los lugares que pertenecen a una categoría específica?"
   ]
  },
  {
   "cell_type": "code",
   "execution_count": null,
   "metadata": {},
   "outputs": [],
   "source": []
  },
  {
   "cell_type": "markdown",
   "metadata": {},
   "source": [
    "### 4. ¿En qué fechas se registraron determinadas condiciones meteorológicas en municipios específicos?"
   ]
  },
  {
   "cell_type": "code",
   "execution_count": null,
   "metadata": {},
   "outputs": [],
   "source": []
  },
  {
   "cell_type": "markdown",
   "metadata": {},
   "source": [
    "### 5. ¿Qué categorías están asociadas con los municipios que tuvieron un estado del cielo específico en una fecha determinada?"
   ]
  }
 ],
 "metadata": {
  "kernelspec": {
   "display_name": "Python 3",
   "language": "python",
   "name": "python3"
  },
  "language_info": {
   "codemirror_mode": {
    "name": "ipython",
    "version": 3
   },
   "file_extension": ".py",
   "mimetype": "text/x-python",
   "name": "python",
   "nbconvert_exporter": "python",
   "pygments_lexer": "ipython3",
   "version": "3.11.9"
  }
 },
 "nbformat": 4,
 "nbformat_minor": 2
}
